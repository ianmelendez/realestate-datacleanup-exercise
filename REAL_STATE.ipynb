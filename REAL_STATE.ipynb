{
 "cells": [
  {
   "attachments": {},
   "cell_type": "markdown",
   "id": "innocent-university",
   "metadata": {},
   "source": [
    "# Real Estate Clean up\n",
    "\n",
    "This is a real dataset and it was downloaded using web scraping techniques. The data contains registers from fotocasa which is one of the most popular websites of real estate in Spain. Please, do not do this (web scraping) unless it is for academic purposes.\n",
    "\n",
    "The dataset was downloaded a few years ago by Henry Navarro and In no case were economic returns obtained from it.\n",
    "\n",
    "It contains thousands of data from real houses published on the web www.fotocasa.com. Your goal is to extract as much information as possible with the knowledge you have so far about data science, for example what is the most expensive house in the entire dataset?\n",
    "\n",
    "Let's start with precisely that question... Good luck!"
   ]
  },
  {
   "attachments": {},
   "cell_type": "markdown",
   "id": "multiple-glass",
   "metadata": {},
   "source": [
    "#### Exercise 00. Read the dataset assets/real_estate.csv and try to visualize the table (★☆☆)"
   ]
  },
  {
   "cell_type": "code",
   "execution_count": null,
   "id": "frank-heath",
   "metadata": {},
   "outputs": [],
   "source": [
    "import pandas as pd\n",
    "\n",
    "# this CSV file contains semicolons instead of comas as separator\n",
    "ds = pd.read_csv('assets/real_estate.csv', sep=';')\n",
    "ds"
   ]
  },
  {
   "cell_type": "markdown",
   "id": "db893d0c",
   "metadata": {},
   "source": []
  },
  {
   "attachments": {},
   "cell_type": "markdown",
   "id": "latin-guest",
   "metadata": {},
   "source": [
    "#### Exercise 01. Which is the most expensive house in the dataset? (★☆☆)\n",
    "\n",
    "Print the address and the price of the selected house. For example:\n",
    "\n",
    "`The house with address General Street Nº5 is the most expensive and its price is 5000000 USD`"
   ]
  },
  {
   "cell_type": "code",
   "execution_count": null,
   "id": "developing-optimum",
   "metadata": {},
   "outputs": [],
   "source": [
    "import pandas as pd\n",
    "\n",
    "# this CSV file contains semicolons instead of comas as separator\n",
    "ds = pd.read_csv('assets/real_estate.csv', sep=';')\n",
    "\n",
    "a = ds.sort_values(\"price\", ascending= False).head(1)\n",
    "b = (a[\"price\"])\n",
    "c = (a[\"address\"])\n",
    "print(\"La casa con direccion\", str(c),\"es la mas cara y su precio es\", str(b), \"EUROS\")\n",
    "\n",
    "\n",
    "\n"
   ]
  },
  {
   "attachments": {},
   "cell_type": "markdown",
   "id": "lesser-cosmetic",
   "metadata": {},
   "source": [
    "#### Exercise 02. Which is cheapest house in the dataset? (★☆☆)\n",
    "\n",
    "Print the address and the price of the selected house. For example:\n",
    "\n",
    "`The house with address Concrete Street Nº1 is the cheapest and its price is 12000 USD`"
   ]
  },
  {
   "cell_type": "code",
   "execution_count": null,
   "id": "lovely-oasis",
   "metadata": {},
   "outputs": [],
   "source": [
    "import pandas as pd\n",
    "\n",
    "# this CSV file contains semicolons instead of comas as separator\n",
    "ds = pd.read_csv('assets/real_estate.csv', sep=';')\n",
    "\n",
    "a = ds.sort_values(\"price\", ascending= True).head(1)\n",
    "b = (a[\"price\"])\n",
    "c = (a[\"address\"])\n",
    "print(\"La casa con direccion\", str(c),\"es la mas barata y su precio es\", str(b), \"EUROS\")"
   ]
  },
  {
   "attachments": {},
   "cell_type": "markdown",
   "id": "compliant-fellowship",
   "metadata": {},
   "source": [
    "#### Exercise 03. Which is the biggest and the smallest house in the dataset? (★☆☆)\n",
    "\n",
    "Print both the address and the surface of the selected houses. For example:\n",
    "\n",
    "`The bigger house is located on Yukka Street Nº10 and its surface is 5000 meters`\n",
    "\n",
    "`The smaller house is located on County Road 1 N and its surface is 200 meters`"
   ]
  },
  {
   "cell_type": "code",
   "execution_count": null,
   "id": "every-tiffany",
   "metadata": {},
   "outputs": [],
   "source": [
    "import pandas as pd\n",
    "\n",
    "#LA MAS GRANDE\n",
    "\n",
    "\n",
    "ds = pd.read_csv('assets/real_estate.csv', sep=';')\n",
    "\n",
    "a = ds.sort_values(\"surface\", ascending= False).head(1)\n",
    "b = (a[\"surface\"])\n",
    "c = (a[\"address\"])\n",
    "print(\"La casa mas grande esta en\", str(c),\"y sus superficie es de\", str(b), \"metros.\")\n",
    "\n",
    "\n",
    "#LA MAS CHICA\n",
    "\n",
    "y = ds.sort_values(\"surface\", ascending= True).head(1)\n",
    "b = (y[\"surface\"])\n",
    "c = (y[\"address\"])\n",
    "print(\"La casa mas pequeña esta en\", str(c),\"y su superficie es de\", str(b), \"metros.\")"
   ]
  },
  {
   "attachments": {},
   "cell_type": "markdown",
   "id": "danish-spirit",
   "metadata": {},
   "source": [
    "#### Exercise 04. How many populations (level5 column) the dataset contains? (★☆☆)\n",
    "\n",
    "Print the name of the populations with comma as separator. For example:\n",
    "\n",
    "`> print(populations)`\n",
    "\n",
    "`population1, population2, population3,...`"
   ]
  },
  {
   "cell_type": "code",
   "execution_count": null,
   "id": "exciting-accreditation",
   "metadata": {},
   "outputs": [],
   "source": [
    "import pandas as pd\n",
    "\n",
    "\n",
    "ds = pd.read_csv('assets/real_estate.csv', sep=';')\n",
    "\n",
    "y = ds.sort_values(\"level5\", ascending= True)\n",
    "print(set(y[\"level5\"]))\n"
   ]
  },
  {
   "attachments": {},
   "cell_type": "markdown",
   "id": "crazy-blame",
   "metadata": {},
   "source": [
    "#### Exercise 05. Does the dataset contain NAs? (★☆☆)\n",
    "\n",
    "Print a boolean value (`true` or `fase`) followed by the rows/cols that contains NAs."
   ]
  },
  {
   "cell_type": "code",
   "execution_count": null,
   "id": "transparent-poetry",
   "metadata": {},
   "outputs": [],
   "source": [
    "import pandas as pd\n",
    "\n",
    "\n",
    "ds = pd.read_csv('assets/real_estate.csv', sep=';')\n",
    "\n",
    "x = ds.isnull()\n",
    "\n",
    "print(x)"
   ]
  },
  {
   "attachments": {},
   "cell_type": "markdown",
   "id": "italic-hydrogen",
   "metadata": {},
   "source": [
    "#### Exercise 06. Delete the NAs of the dataset, if applicable (★★☆)\n",
    "\n",
    "Print a comparison between the dimensions of the original DataFrame versus the DataFrame after the deletions"
   ]
  },
  {
   "cell_type": "code",
   "execution_count": null,
   "id": "administrative-roads",
   "metadata": {},
   "outputs": [],
   "source": [
    "import pandas as pd\n",
    "\n",
    "\n",
    "ds = pd.read_csv('assets/real_estate.csv', sep=';')\n",
    "\n",
    "dff = ds.dropna()\n",
    "\n",
    "print(dff)"
   ]
  },
  {
   "attachments": {},
   "cell_type": "markdown",
   "id": "middle-china",
   "metadata": {},
   "source": [
    "#### Exercise 07. Which is the mean of prices in the population (level5 column) of \"Arroyomolinos (Madrid)\"? (★★☆)\n",
    "\n",
    "Print the obtained value"
   ]
  },
  {
   "cell_type": "code",
   "execution_count": null,
   "id": "nuclear-belief",
   "metadata": {},
   "outputs": [],
   "source": [
    "import pandas as pd\n",
    "\n",
    "\n",
    "ds = pd.read_csv('assets/real_estate.csv', sep=';')\n",
    "madrid = ds.loc[ds[\"level5\"] == \"Arroyomolinos (Madrid)\",[\"price\"]].mean()\n",
    "print(madrid)"
   ]
  },
  {
   "attachments": {},
   "cell_type": "markdown",
   "id": "concerned-radical",
   "metadata": {},
   "source": [
    "#### Exercise 08. Plot the histogram of prices for the population (level5 column) of \"Arroyomolinos (Madrid)\" and explain what you observe (★★☆)\n",
    "\n",
    "Print the histogram of the prices and write in the Markdown cell a brief analysis about the plot."
   ]
  },
  {
   "cell_type": "code",
   "execution_count": null,
   "id": "sudden-message",
   "metadata": {},
   "outputs": [],
   "source": [
    "import pandas as pd\n",
    "import numpy as np\n",
    "import matplotlib.pyplot as plt\n",
    "\n",
    "\n",
    "\n",
    "ds = pd.read_csv('assets/real_estate.csv', sep=';')\n",
    "\n",
    "arroyo_molinos = ds.loc[ds[\"level5\"]==\"Arroyomolinos (Madrid)\"]\n",
    "precio = arroyo_molinos[\"price\"]\n",
    "plt.hist(precio)\n",
    "plt.show()"
   ]
  },
  {
   "attachments": {},
   "cell_type": "markdown",
   "id": "impressed-combination",
   "metadata": {},
   "source": [
    "**TODO: Markdown**. To write here, double click to this cell and just remove this content and place the text you want to write. Then, execute the cell."
   ]
  },
  {
   "attachments": {},
   "cell_type": "markdown",
   "id": "actual-edinburgh",
   "metadata": {},
   "source": [
    "#### Exercise 09. Is the average of \"Valdemorillo\" and \"Galapagar\" prices the same? (★★☆)\n",
    "\n",
    "Print the both average prices and then write a conclusion about them"
   ]
  },
  {
   "cell_type": "code",
   "execution_count": null,
   "id": "numeric-commerce",
   "metadata": {},
   "outputs": [],
   "source": [
    "import pandas as pd\n",
    "\n",
    "\n",
    "ds = pd.read_csv('assets/real_estate.csv', sep=';')\n",
    "valdemorillo = ds.loc[ds[\"level5\"] == \"Valdemorillo\",[\"price\"]].mean()\n",
    "galapagar = ds.loc[ds[\"level5\"] == \"Galapagar\",[\"price\"]].mean()\n",
    "print(valdemorillo)\n",
    "print(galapagar)\n",
    "\n",
    "print(\"Los dos pueblos tienen precios similares.\")"
   ]
  },
  {
   "attachments": {},
   "cell_type": "markdown",
   "id": "lonely-article",
   "metadata": {},
   "source": [
    "#### Exercise 10. Is the average of \"Valdemorillo\" and \"Galapagar\" price per square meter (price/m2) the same? (★★☆)\n",
    "\n",
    "Print the both average prices and then write a conclusion about\n",
    "\n",
    "Hint: Create a new column called `pps` (price per square) and then analyse the values"
   ]
  },
  {
   "cell_type": "code",
   "execution_count": null,
   "id": "hourly-globe",
   "metadata": {},
   "outputs": [],
   "source": [
    "import pandas as pd\n",
    "ds = pd.read_csv('assets/real_estate.csv', sep=';')\n",
    "\n",
    "\n",
    "new = ds[ds[\"level5\"].isin([\"Valdemorillo\",\"Galapagar\"])]\n",
    "\n",
    "new[\"PPS\"] = new[\"price\"] / new[\"surface\"]\n",
    "\n",
    "(new)\n",
    "\n",
    "\n"
   ]
  },
  {
   "attachments": {},
   "cell_type": "markdown",
   "id": "pleasant-invite",
   "metadata": {},
   "source": [
    "#### Exercise 11. Analyse the relation between the surface and the price of the houses (★★☆)\n",
    "\n",
    "Hint: You can make a `scatter plot` and then write a conclusion about it"
   ]
  },
  {
   "cell_type": "code",
   "execution_count": null,
   "id": "common-drilling",
   "metadata": {},
   "outputs": [],
   "source": [
    "import pandas as pd\n",
    "import numpy as np\n",
    "import matplotlib.pyplot as plt\n",
    "\n",
    "ds = pd.read_csv('assets/real_estate.csv', sep=';')\n",
    "\n",
    "price = ds[\"price\"]\n",
    "surface = ds[\"surface\"]\n",
    "plt.scatter(surface, price)\n",
    "\n",
    "\n",
    "plt.show()"
   ]
  },
  {
   "attachments": {},
   "cell_type": "markdown",
   "id": "ahead-liquid",
   "metadata": {},
   "source": [
    "**TODO: Markdown**. To write here, double click to this cell and just remove this content and place the text you want to write. Then, execute the cell."
   ]
  },
  {
   "attachments": {},
   "cell_type": "markdown",
   "id": "coordinate-sunrise",
   "metadata": {},
   "source": [
    "#### Exercise 12. How many real estate agencies the dataset contains? (★★☆)\n",
    "\n",
    "Print the obtained value"
   ]
  },
  {
   "cell_type": "code",
   "execution_count": null,
   "id": "valid-honolulu",
   "metadata": {},
   "outputs": [],
   "source": [
    "import pandas as pd\n",
    "\n",
    "ds = pd.read_csv('assets/real_estate.csv', sep=';')\n",
    "\n",
    "agencias = ds[\"realEstate_name\"]\n",
    "total =(set(agencias))\n",
    "\n",
    "print(\"Tiene un total de\",len(total), \"agencias\")\n"
   ]
  },
  {
   "attachments": {},
   "cell_type": "markdown",
   "id": "binding-ebony",
   "metadata": {},
   "source": [
    "#### Exercise 13. Which is the population (level5 column) that contains the most houses? (★★☆)\n",
    "\n",
    "Print both the population and the number of houses"
   ]
  },
  {
   "cell_type": "code",
   "execution_count": null,
   "id": "static-perry",
   "metadata": {},
   "outputs": [],
   "source": [
    "import pandas as pd\n",
    "from collections import Counter\n",
    "\n",
    "\n",
    "ds = pd.read_csv('assets/real_estate.csv', sep=';')\n",
    "\n",
    "population = ds[\"level5\"]\n",
    "a = list(population)\n",
    "c = Counter(a)\n",
    "print(c.most_common(1))"
   ]
  },
  {
   "attachments": {},
   "cell_type": "markdown",
   "id": "entire-classification",
   "metadata": {},
   "source": [
    "#### Exercise 14. Now let's work with the \"south belt\" of madrid. Make a subset of the original DataFrame that contains the following populations (level5 column): \"Fuenlabrada\",\"Leganés\",\"Getafe\",\"Alcorcón\" (★★☆)\n",
    "\n",
    "Hint: Filter the original DataFrame using the column `level5` and the function `isin`"
   ]
  },
  {
   "cell_type": "code",
   "execution_count": null,
   "id": "binary-input",
   "metadata": {},
   "outputs": [],
   "source": [
    "import pandas as pd\n",
    "\n",
    "ds = pd.read_csv('assets/real_estate.csv', sep=';')\n",
    "\n",
    "madrid = ds[ds[\"level5\"].isin([\"Fuenlabrada\",\"Leganés\",\"Getafe\",\"Alcorcón\"])]\n",
    "\n",
    "\n",
    "print(madrid)"
   ]
  },
  {
   "attachments": {},
   "cell_type": "markdown",
   "id": "severe-fisher",
   "metadata": {},
   "source": [
    "#### Exercise 15. Make a bar plot of the median of the prices and explain what you observe (you must use the subset obtained in the question 14) (★★★)\n",
    "\n",
    "Print the bar of the median of the prices and write in the Markdown cell a brief analysis about the plot"
   ]
  },
  {
   "cell_type": "code",
   "execution_count": null,
   "id": "lyric-bunch",
   "metadata": {},
   "outputs": [],
   "source": [
    "import pandas as pd\n",
    "import numpy as np\n",
    "import matplotlib.pyplot as plt\n",
    "\n",
    "ds = pd.read_csv('assets/real_estate.csv', sep=';')\n",
    "\n",
    "madrid = ds[ds[\"level5\"].isin([\"Fuenlabrada\",\"Leganés\",\"Getafe\",\"Alcorcón\"])]\n",
    "\n",
    "sl_1 = ds[ds[\"level5\"].isin([\"Fuenlabrada\"])]\n",
    "sl_2 = ds[ds[\"level5\"].isin([\"Leganés\"])]\n",
    "sl_3 = ds[ds[\"level5\"].isin([\"Getafe\"])]\n",
    "sl_4 = ds[ds[\"level5\"].isin([\"Alcorcón\"])]\n",
    "\n",
    "#PRECIOS MEDIANA\n",
    "\n",
    "s_pre1 = sl_1[\"price\"].median()\n",
    "s_pre2 = sl_2[\"price\"].median()\n",
    "s_pre3 = sl_3[\"price\"].median()\n",
    "s_pre4 = sl_4[\"price\"].median()\n",
    "\n",
    "meridians = [155000.0, 169950.0, 285305.0, 179500.0]\n",
    "\n",
    "ciudades = [\"Fuenlabrada\",\"Leganés\",\"Getafe\",\"Alcorcón\"]\n",
    "\n",
    "plt.plot(ciudades, meridians)\n",
    "plt.show()\n",
    "\n"
   ]
  },
  {
   "attachments": {},
   "cell_type": "markdown",
   "id": "sublime-newspaper",
   "metadata": {},
   "source": [
    "**TODO: Markdown**. To write here, double click to this cell and just remove this content and place the text you want to write. Then, execute the cell."
   ]
  },
  {
   "attachments": {},
   "cell_type": "markdown",
   "id": "speaking-diamond",
   "metadata": {},
   "source": [
    "#### Exercise 16. Calculate the sample mean and variance of the variables: price, rooms, surface area and bathrooms (you must use the subset obtained in the question 14) (★★★)\n",
    "\n",
    "Print both values for each variable"
   ]
  },
  {
   "cell_type": "code",
   "execution_count": null,
   "id": "random-feeling",
   "metadata": {},
   "outputs": [],
   "source": [
    "import pandas as pd\n",
    "import numpy as np\n",
    "\n",
    "ds = pd.read_csv('assets/real_estate.csv', sep=';')\n",
    "madrid = ds[ds[\"level5\"].isin([\"Fuenlabrada\",\"Leganés\",\"Getafe\",\"Alcorcón\"])]\n",
    "\n",
    "sl_1 = ds[ds[\"level5\"].isin([\"Fuenlabrada\"])]\n",
    "sl_2 = ds[ds[\"level5\"].isin([\"Leganés\"])]\n",
    "sl_3 = ds[ds[\"level5\"].isin([\"Getafe\"])]\n",
    "sl_4 = ds[ds[\"level5\"].isin([\"Alcorcón\"])]\n",
    "\n",
    "#FUENLABRADA\n",
    "prec1 = sl_1[\"price\"].median()\n",
    "surf1 = sl_1[\"surface\"].median()\n",
    "room1 = sl_1[\"rooms\"].median()\n",
    "bath1 = sl_1[\"bathrooms\"].median()\n",
    "prec2 = sl_1[\"price\"].var()\n",
    "surf2 = sl_1[\"surface\"].var()\n",
    "room2 = sl_1[\"rooms\"].var()\n",
    "bath2 = sl_1[\"bathrooms\"].var()\n",
    "\n",
    "#LEGANES\n",
    "prec3 = sl_2[\"price\"].median()\n",
    "surf3 = sl_2[\"surface\"].median()\n",
    "room3 = sl_2[\"rooms\"].median()\n",
    "bath3 = sl_2[\"bathrooms\"].median()\n",
    "prec4 = sl_2[\"price\"].var()\n",
    "surf4 = sl_2[\"surface\"].var()\n",
    "room4 = sl_2[\"rooms\"].var()\n",
    "bath4 = sl_2[\"bathrooms\"].var()\n",
    "\n",
    "#GETAFE\n",
    "prec5 = sl_3[\"price\"].median()\n",
    "surf5 = sl_3[\"surface\"].median()\n",
    "room5 = sl_3[\"rooms\"].median()\n",
    "bath5 = sl_3[\"bathrooms\"].median()\n",
    "prec6 = sl_3[\"price\"].var()\n",
    "surf6 = sl_3[\"surface\"].var()\n",
    "room6 = sl_3[\"rooms\"].var()\n",
    "bath6 = sl_3[\"bathrooms\"].var()\n",
    "\n",
    "#ALCORCON\n",
    "prec7 = sl_4[\"price\"].median()\n",
    "surf7 = sl_4[\"surface\"].median()\n",
    "room7 = sl_4[\"rooms\"].median()\n",
    "bath7 = sl_4[\"bathrooms\"].median()\n",
    "prec8 = sl_4[\"price\"].var()\n",
    "surf8 = sl_4[\"surface\"].var()\n",
    "room8 = sl_4[\"rooms\"].var()\n",
    "bath8 = sl_4[\"bathrooms\"].var()\n",
    "\n",
    "\n",
    "print(\"Superficie, Precios, Habitaciones y Baños de FUENLABRADA (MEDIANA)\")\n",
    "print(surf1, prec1, room1, bath1)\n",
    "print(\"Superficie, Precios, Habitaciones y Baños de FUENLABRADA (VARIABLE)\")\n",
    "print(surf2, prec2, room2, bath2)\n",
    "\n",
    "print(\"-------------------------------------------------------------------\")\n",
    "\n",
    "print(\"Superficie, Precios, Habitaciones y Baños de LEGANES (MEDIANA)\")\n",
    "print(surf3, prec3, room3, bath3)\n",
    "print(\"Superficie, Precios, Habitaciones y Baños de LEGANES (VARIABLE)\")\n",
    "print(surf4, prec4, room4, bath4)\n",
    "\n",
    "print(\"-------------------------------------------------------------------\")\n",
    "\n",
    "print(\"Superficie, Precios, Habitaciones y Baños de GETAFE (MEDIANA)\")\n",
    "print(surf5, prec5, room5, bath5)\n",
    "print(\"Superficie, Precios, Habitaciones y Baños de GETAFE (VARIABLE)\")\n",
    "print(surf6, prec6, room6, bath6)\n",
    "\n",
    "print(\"-------------------------------------------------------------------\")\n",
    "\n",
    "print(\"Superficie, Precios, Habitaciones y Baños de ALCORCON (MEDIANA)\")\n",
    "print(surf7, prec7, room7, bath7)\n",
    "print(\"Superficie, Precios, Habitaciones y Baños de ALCORCON (VARIABLE)\")\n",
    "print(surf8, prec8, room8, bath8)"
   ]
  },
  {
   "attachments": {},
   "cell_type": "markdown",
   "id": "revolutionary-matrix",
   "metadata": {},
   "source": [
    "#### Exercise 17. What is the most expensive house of each population? You must use the subset obtained in the question 14 (★★☆)\n",
    "\n",
    "Print both the address and the price of the selected house of each population. You can print a DataFrame or a single line for each population"
   ]
  },
  {
   "cell_type": "code",
   "execution_count": null,
   "id": "fifteen-browse",
   "metadata": {},
   "outputs": [],
   "source": [
    "import pandas as pd\n",
    "import numpy as np\n",
    "ds = pd.read_csv('assets/real_estate.csv', sep=';')\n",
    "\n",
    "sl_1 = ds[ds[\"level5\"].isin([\"Fuenlabrada\"])]\n",
    "sl_2 = ds[ds[\"level5\"].isin([\"Leganés\"])]\n",
    "sl_3 = ds[ds[\"level5\"].isin([\"Getafe\"])]\n",
    "sl_4 = ds[ds[\"level5\"].isin([\"Alcorcón\"])]\n",
    "\n",
    "#Index Maximo de Fuenlabrada\n",
    "index1 = sl_1[\"price\"].idxmax()\n",
    "\n",
    "#Index Maximo de Leganés\n",
    "index2 = sl_2[\"price\"].idxmax()\n",
    "\n",
    "#Index Maximo de Getafe\n",
    "index3 = sl_3[\"price\"].idxmax()\n",
    "\n",
    "#Index Maximo de Alcorcón\n",
    "index4 = sl_4[\"price\"].idxmax()\n",
    "\n",
    "address1  = ds.loc[index1, \"address\"]\n",
    "price1 = ds.loc[index1, \"price\"]\n",
    "print(\"En\", address1,\",\" \"su casa mas cara es de\",price1,\"€\")\n",
    "\n",
    "address2  = ds.loc[index2, \"address\"]\n",
    "price2 = ds.loc[index2, \"price\"]\n",
    "print(\"En\", address2,\"localizada en Leganés, su casa mas cara es de\",price2,\"€\")\n",
    "\n",
    "\n",
    "address3  = ds.loc[index3, \"address\"]\n",
    "price3 = ds.loc[index3, \"price\"]\n",
    "print(\"En\", address3,\"localizada en Getafe, su casa mas cara es de\",price3,\"€\")\n",
    "\n",
    "\n",
    "address4  = ds.loc[index4, \"address\"]\n",
    "price4 = ds.loc[index4, \"price\"]\n",
    "print(\"En\", address4,\"localizada en Alarcón, su casa mas cara es de\",price4,\"€\")\n",
    "\n"
   ]
  },
  {
   "attachments": {},
   "cell_type": "markdown",
   "id": "activated-knight",
   "metadata": {},
   "source": [
    "#### Exercise 18. Normalize the variable of prices for each population and plot the 4 histograms in the same plot (you must use the subset obtained in the question 14) (★★★)\n",
    "\n",
    "For the normalization method you can use the one you consider to, there is not a single correct answer to this question. Print the plot and write in the Markdown cell a brief analysis about the plot\n",
    "\n",
    "Hint: You can help yourself reviewing the multihist demo of Matplotlib"
   ]
  },
  {
   "cell_type": "code",
   "execution_count": null,
   "id": "civic-meditation",
   "metadata": {},
   "outputs": [],
   "source": [
    "\n",
    "import pandas as pd\n",
    "import numpy as np\n",
    "import matplotlib.pyplot as plt\n",
    "\n",
    "ds = pd.read_csv('assets/real_estate.csv', sep=';')\n",
    "\n",
    "\n",
    "madrid = ds[ds[\"level5\"].isin([\"Fuenlabrada\",\"Leganés\",\"Getafe\",\"Alcorcón\"])]\n",
    "\n",
    "a = madrid.loc[madrid['level5'] == \"Fuenlabrada\"]\n",
    "a_prices = a['price']\n",
    "normalized_df=(a_prices-a_prices.min())/(a_prices.max()-a_prices.min())\n",
    "#print(normalized_df)\n",
    "\n",
    "\n",
    "\n",
    "b = madrid.loc[madrid['level5'] == \"Leganés\"]\n",
    "b_prices = b['price']\n",
    "normalized_db=(b_prices-b_prices.min())/(b_prices.max()-b_prices.min())\n",
    "#print(normalized_db)\n",
    "\n",
    "\n",
    "c = madrid.loc[madrid['level5'] == \"Getafe\"]\n",
    "c_prices = c['price']\n",
    "normalized_dc=(c_prices-c_prices.min())/(c_prices.max()-c_prices.min())\n",
    "#print(normalized_dc)\n",
    "\n",
    "\n",
    "d = madrid.loc[madrid['level5'] == \"Alcorcón\"]\n",
    "d_prices = d['price']\n",
    "normalized_dd=(d_prices-d_prices.min())/(d_prices.max()-d_prices.min())\n",
    "#print(normalized_dd)\n",
    "\n",
    "plt.hist([\"normalized_df\",\"normalized_db\",\"normalized_dc\", \"normalized_dd\"], [\"Fuenlabrada\",\"Leganés\",\"Getafe\",\"Alcorcón\"], label== madrid)\n",
    "\n",
    "\n"
   ]
  },
  {
   "attachments": {},
   "cell_type": "markdown",
   "id": "precise-heavy",
   "metadata": {},
   "source": [
    "**TODO: Markdown**. To write here, double click to this cell and just remove this content and place the text you want to write. Then, execute the cell."
   ]
  },
  {
   "attachments": {},
   "cell_type": "markdown",
   "id": "patent-jonathan",
   "metadata": {},
   "source": [
    "#### Exercise 19. What can you say about the price per square meter (price/m2) between the towns of \"Getafe\" and \"Alcorcón\"? You must use the subset obtained in the question 14 (★★☆)\n",
    "\n",
    "Hint: Create a new column called `pps` (price per square) and then analyse the values"
   ]
  },
  {
   "cell_type": "code",
   "execution_count": null,
   "id": "initial-liverpool",
   "metadata": {},
   "outputs": [],
   "source": [
    "\n",
    "import pandas as pd\n",
    "import numpy as np\n",
    "ds = pd.read_csv('assets/real_estate.csv', sep=';')\n",
    "\n",
    "\n",
    "madrid = ds[ds[\"level5\"].isin([\"Fuenlabrada\",\"Leganés\",\"Getafe\",\"Alcorcón\"])]\n",
    "\n",
    "getafe = madrid[madrid[\"level5\"].isin([\"Getafe\"])]\n",
    "getafe[\"PPS\"] = getafe[\"price\"] / getafe[\"surface\"]\n",
    "\n",
    "getafe\n",
    "\n",
    "\n",
    "alcorcon = madrid[madrid[\"level5\"].isin([\"Alcorcón\"])]\n",
    "alcorcon[\"PPS\"] = alcorcon[\"price\"] / alcorcon[\"surface\"]\n",
    "\n",
    "alcorcon\n"
   ]
  },
  {
   "attachments": {},
   "cell_type": "markdown",
   "id": "enhanced-moscow",
   "metadata": {},
   "source": [
    "#### Exercise 20. Make the same plot for 4 different populations (level5 column) and rearrange them on the same graph? You must use the subset obtained in the question 14 (★★☆) \n",
    "Hint: make a scatter plot of each population using subplots."
   ]
  },
  {
   "cell_type": "code",
   "execution_count": 6,
   "id": "accepting-airfare",
   "metadata": {},
   "outputs": [
    {
     "data": {
      "image/png": "[encoded data removed]",
      "text/plain": [
       "<Figure size 640x480 with 4 Axes>"
      ]
     },
     "metadata": {},
     "output_type": "display_data"
    }
   ],
   "source": [
    "# TODO\n",
    "import pandas as pd\n",
    "import numpy as np\n",
    "import matplotlib.pyplot as plt\n",
    "\n",
    "ds = pd.read_csv('assets/real_estate.csv', sep=';')\n",
    "\n",
    "madrid = ds[ds[\"level5\"].isin([\"Fuenlabrada\",\"Leganés\",\"Getafe\",\"Alcorcón\"])]\n",
    "\n",
    "\n",
    "fig, axes = plt.subplots(2,2)\n",
    "axes[0,0].hist(madrid[madrid['level5']=='Fuenlabrada']['price'], color='r')\n",
    "axes[0,1].hist(madrid[madrid['level5']=='Getafe']['price'], color='g')\n",
    "axes[1,0].hist(madrid[madrid['level5']=='Leganés']['price'], color='m')\n",
    "axes[1,1].hist(madrid[madrid['level5']=='Alcorcón']['price'], color='y')\n",
    "plt.suptitle(\"Histograma precios normalizados\", size=18)\n",
    "plt.tight_layout\n",
    "plt.show()"
   ]
  },
  {
   "attachments": {},
   "cell_type": "markdown",
   "id": "blocked-effects",
   "metadata": {},
   "source": [
    "#### Exercise 21. Make a plot of the coordinates (latitude and longitude columns) of the south belt of Madrid by color of each population (you must use the subset obtained in the question 14) (★★★★)\n",
    "\n",
    "Execute the following cell and then start coding in the next one. You must implement a simple code that transform the coordinates columns in a Python dictionary (add more information if needed) and then add it to the map"
   ]
  },
  {
   "cell_type": "code",
   "execution_count": null,
   "id": "headed-privacy",
   "metadata": {},
   "outputs": [],
   "source": [
    "from ipyleaflet import Map, basemaps, Marker\n",
    "import pandas as pd\n",
    "import numpy as np\n",
    "ds = pd.read_csv('assets/real_estate.csv', sep=';')\n",
    "\n",
    "madrid = ds[ds[\"level5\"].isin([\"Fuenlabrada\",\"Leganés\",\"Getafe\",\"Alcorcón\"])]\n",
    "# Convert latitude and longitude columns to numeric explicitly\n",
    "madrid['latitude'] = madrid['latitude'].str.replace(',', '.').astype(float)\n",
    "madrid['longitude'] = madrid['longitude'].str.replace(',', '.').astype(float)\n",
    "# Create a map centered around (60 degrees latitude et -2.2 degrees longitude)\n",
    "# Latitude, longitude\n",
    "map = Map(center=(60, -2.2), zoom=2, min_zoom=1, max_zoom=20, basemap=basemaps.Stamen.Terrain)\n",
    "# Create a DataFrame with the necessary columns\n",
    "data = {\n",
    "    'latitude': madrid['latitude'],\n",
    "    'longitude': madrid['longitude'],\n",
    "    'place': madrid['level5']\n",
    "}\n",
    "df = pd.DataFrame(data)\n",
    "# Create a map centered around the average coordinates\n",
    "map_center = (df['latitude'].mean(), df['longitude'].mean())\n",
    "m = Map(center=map_center, zoom=10, basemap=basemaps.Stamen.Terrain)\n",
    "# Convert the DataFrame to a list of dictionaries\n",
    "locations = df.to_dict(orient='records')\n",
    "# Iterate through the list of dictionaries and add markers to the map\n",
    "for location in locations:\n",
    "    marker = Marker(location=(location['latitude'], location['longitude']), title=location['place'])\n",
    "    m.add_layer(marker)\n",
    "# Display the map\n",
    "m"
   ]
  },
  {
   "cell_type": "code",
   "execution_count": null,
   "id": "present-mistress",
   "metadata": {},
   "outputs": [],
   "source": [
    "from ipyleaflet import Map, basemaps, Marker\n",
    "import pandas as pd\n",
    "import numpy as np\n",
    "ds = pd.read_csv('assets/real_estate.csv', sep=';')\n",
    "\n",
    "\n",
    "madrid = ds[ds[\"level5\"].isin([\"Fuenlabrada\",\"Leganés\",\"Getafe\",\"Alcorcón\"])]\n",
    "map = Map(center=(60, -2.2), zoom=2, min_zoom=1, max_zoom=20, basemap=basemaps.Stamen.Terrain)\n",
    "# Create a DataFrame with the necessary columns\n",
    "data = {\n",
    "    'latitude': madrid['latitude'],\n",
    "    'longitude': madrid['longitude'],\n",
    "    'place': madrid['level5']\n",
    "}\n",
    "df = pd.DataFrame(data)\n",
    "# Create a map centered around the average coordinates\n",
    "map_center = (df['latitude'].mean(), df['longitude'].mean())\n",
    "m = Map(center=map_center, zoom=10, basemap=basemaps.Stamen.Terrain)\n",
    "# Convert the DataFrame to a list of dictionaries\n",
    "locations = df.to_dict(orient='records')\n",
    "# Iterate through the list of dictionaries and add markers to the map\n",
    "for location in locations:\n",
    "    marker = Marker(location=(location['latitude'], location['longitude']), title=location['place'])\n",
    "    m.add_layer(marker)\n",
    "# Display the map\n",
    "m\n"
   ]
  }
 ],
 "metadata": {
  "kernelspec": {
   "display_name": "Python 3",
   "language": "python",
   "name": "python3"
  },
  "language_info": {
   "codemirror_mode": {
    "name": "ipython",
    "version": 3
   },
   "file_extension": ".py",
   "mimetype": "text/x-python",
   "name": "python",
   "nbconvert_exporter": "python",
   "pygments_lexer": "ipython3",
   "version": "3.11.4"
  }
 },
 "nbformat": 4,
 "nbformat_minor": 5
}
