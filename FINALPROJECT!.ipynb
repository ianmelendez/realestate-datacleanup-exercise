{
 "cells": [
  {
   "attachments": {},
   "cell_type": "markdown",
   "id": "innocent-university",
   "metadata": {},
   "source": [
    "# Real Estate Clean up\n",
    "\n",
    "This is a real dataset and it was downloaded using web scraping techniques. The data contains registers from fotocasa which is one of the most popular websites of real estate in Spain. Please, do not do this (web scraping) unless it is for academic purposes.\n",
    "\n",
    "The dataset was downloaded a few years ago by Henry Navarro and In no case were economic returns obtained from it.\n",
    "\n",
    "It contains thousands of data from real houses published on the web www.fotocasa.com. Your goal is to extract as much information as possible with the knowledge you have so far about data science, for example what is the most expensive house in the entire dataset?\n",
    "\n",
    "Let's start with precisely that question... Good luck!"
   ]
  },
  {
   "attachments": {},
   "cell_type": "markdown",
   "id": "multiple-glass",
   "metadata": {},
   "source": [
    "#### Exercise 00. Read the dataset assets/real_estate.csv and try to visualize the table (★☆☆)"
   ]
  },
  {
   "cell_type": "code",
   "execution_count": 1,
   "id": "frank-heath",
   "metadata": {},
   "outputs": [
    {
     "ename": "FileNotFoundError",
     "evalue": "[Errno 2] No such file or directory: 'assets/real_estate.csv'",
     "output_type": "error",
     "traceback": [
      "\u001b[0;31m---------------------------------------------------------------------------\u001b[0m",
      "\u001b[0;31mFileNotFoundError\u001b[0m                         Traceback (most recent call last)",
      "\u001b[1;32m/projectFinal.ipynb Celda 3\u001b[0m line \u001b[0;36m4\n\u001b[1;32m      <a href='vscode-notebook-cell:/projectFinal.ipynb#W2sZmlsZQ%3D%3D?line=1'>2</a>\u001b[0m \u001b[39mimport\u001b[39;00m \u001b[39mmatplotlib\u001b[39;00m \u001b[39mas\u001b[39;00m \u001b[39mplt\u001b[39;00m\n\u001b[1;32m      <a href='vscode-notebook-cell:/projectFinal.ipynb#W2sZmlsZQ%3D%3D?line=2'>3</a>\u001b[0m \u001b[39m# this CSV file contains semicolons instead of comas as separator\u001b[39;00m\n\u001b[0;32m----> <a href='vscode-notebook-cell:/projectFinal.ipynb#W2sZmlsZQ%3D%3D?line=3'>4</a>\u001b[0m ds \u001b[39m=\u001b[39m pd\u001b[39m.\u001b[39;49mread_csv(\u001b[39m'\u001b[39;49m\u001b[39massets/real_estate.csv\u001b[39;49m\u001b[39m'\u001b[39;49m, sep\u001b[39m=\u001b[39;49m\u001b[39m'\u001b[39;49m\u001b[39m;\u001b[39;49m\u001b[39m'\u001b[39;49m)\n\u001b[1;32m      <a href='vscode-notebook-cell:/projectFinal.ipynb#W2sZmlsZQ%3D%3D?line=4'>5</a>\u001b[0m ds\n",
      "File \u001b[0;32m~/.local/lib/python3.11/site-packages/pandas/io/parsers/readers.py:948\u001b[0m, in \u001b[0;36mread_csv\u001b[0;34m(filepath_or_buffer, sep, delimiter, header, names, index_col, usecols, dtype, engine, converters, true_values, false_values, skipinitialspace, skiprows, skipfooter, nrows, na_values, keep_default_na, na_filter, verbose, skip_blank_lines, parse_dates, infer_datetime_format, keep_date_col, date_parser, date_format, dayfirst, cache_dates, iterator, chunksize, compression, thousands, decimal, lineterminator, quotechar, quoting, doublequote, escapechar, comment, encoding, encoding_errors, dialect, on_bad_lines, delim_whitespace, low_memory, memory_map, float_precision, storage_options, dtype_backend)\u001b[0m\n\u001b[1;32m    935\u001b[0m kwds_defaults \u001b[39m=\u001b[39m _refine_defaults_read(\n\u001b[1;32m    936\u001b[0m     dialect,\n\u001b[1;32m    937\u001b[0m     delimiter,\n\u001b[0;32m   (...)\u001b[0m\n\u001b[1;32m    944\u001b[0m     dtype_backend\u001b[39m=\u001b[39mdtype_backend,\n\u001b[1;32m    945\u001b[0m )\n\u001b[1;32m    946\u001b[0m kwds\u001b[39m.\u001b[39mupdate(kwds_defaults)\n\u001b[0;32m--> 948\u001b[0m \u001b[39mreturn\u001b[39;00m _read(filepath_or_buffer, kwds)\n",
      "File \u001b[0;32m~/.local/lib/python3.11/site-packages/pandas/io/parsers/readers.py:611\u001b[0m, in \u001b[0;36m_read\u001b[0;34m(filepath_or_buffer, kwds)\u001b[0m\n\u001b[1;32m    608\u001b[0m _validate_names(kwds\u001b[39m.\u001b[39mget(\u001b[39m\"\u001b[39m\u001b[39mnames\u001b[39m\u001b[39m\"\u001b[39m, \u001b[39mNone\u001b[39;00m))\n\u001b[1;32m    610\u001b[0m \u001b[39m# Create the parser.\u001b[39;00m\n\u001b[0;32m--> 611\u001b[0m parser \u001b[39m=\u001b[39m TextFileReader(filepath_or_buffer, \u001b[39m*\u001b[39;49m\u001b[39m*\u001b[39;49mkwds)\n\u001b[1;32m    613\u001b[0m \u001b[39mif\u001b[39;00m chunksize \u001b[39mor\u001b[39;00m iterator:\n\u001b[1;32m    614\u001b[0m     \u001b[39mreturn\u001b[39;00m parser\n",
      "File \u001b[0;32m~/.local/lib/python3.11/site-packages/pandas/io/parsers/readers.py:1448\u001b[0m, in \u001b[0;36mTextFileReader.__init__\u001b[0;34m(self, f, engine, **kwds)\u001b[0m\n\u001b[1;32m   1445\u001b[0m     \u001b[39mself\u001b[39m\u001b[39m.\u001b[39moptions[\u001b[39m\"\u001b[39m\u001b[39mhas_index_names\u001b[39m\u001b[39m\"\u001b[39m] \u001b[39m=\u001b[39m kwds[\u001b[39m\"\u001b[39m\u001b[39mhas_index_names\u001b[39m\u001b[39m\"\u001b[39m]\n\u001b[1;32m   1447\u001b[0m \u001b[39mself\u001b[39m\u001b[39m.\u001b[39mhandles: IOHandles \u001b[39m|\u001b[39m \u001b[39mNone\u001b[39;00m \u001b[39m=\u001b[39m \u001b[39mNone\u001b[39;00m\n\u001b[0;32m-> 1448\u001b[0m \u001b[39mself\u001b[39m\u001b[39m.\u001b[39m_engine \u001b[39m=\u001b[39m \u001b[39mself\u001b[39;49m\u001b[39m.\u001b[39;49m_make_engine(f, \u001b[39mself\u001b[39;49m\u001b[39m.\u001b[39;49mengine)\n",
      "File \u001b[0;32m~/.local/lib/python3.11/site-packages/pandas/io/parsers/readers.py:1705\u001b[0m, in \u001b[0;36mTextFileReader._make_engine\u001b[0;34m(self, f, engine)\u001b[0m\n\u001b[1;32m   1703\u001b[0m     \u001b[39mif\u001b[39;00m \u001b[39m\"\u001b[39m\u001b[39mb\u001b[39m\u001b[39m\"\u001b[39m \u001b[39mnot\u001b[39;00m \u001b[39min\u001b[39;00m mode:\n\u001b[1;32m   1704\u001b[0m         mode \u001b[39m+\u001b[39m\u001b[39m=\u001b[39m \u001b[39m\"\u001b[39m\u001b[39mb\u001b[39m\u001b[39m\"\u001b[39m\n\u001b[0;32m-> 1705\u001b[0m \u001b[39mself\u001b[39m\u001b[39m.\u001b[39mhandles \u001b[39m=\u001b[39m get_handle(\n\u001b[1;32m   1706\u001b[0m     f,\n\u001b[1;32m   1707\u001b[0m     mode,\n\u001b[1;32m   1708\u001b[0m     encoding\u001b[39m=\u001b[39;49m\u001b[39mself\u001b[39;49m\u001b[39m.\u001b[39;49moptions\u001b[39m.\u001b[39;49mget(\u001b[39m\"\u001b[39;49m\u001b[39mencoding\u001b[39;49m\u001b[39m\"\u001b[39;49m, \u001b[39mNone\u001b[39;49;00m),\n\u001b[1;32m   1709\u001b[0m     compression\u001b[39m=\u001b[39;49m\u001b[39mself\u001b[39;49m\u001b[39m.\u001b[39;49moptions\u001b[39m.\u001b[39;49mget(\u001b[39m\"\u001b[39;49m\u001b[39mcompression\u001b[39;49m\u001b[39m\"\u001b[39;49m, \u001b[39mNone\u001b[39;49;00m),\n\u001b[1;32m   1710\u001b[0m     memory_map\u001b[39m=\u001b[39;49m\u001b[39mself\u001b[39;49m\u001b[39m.\u001b[39;49moptions\u001b[39m.\u001b[39;49mget(\u001b[39m\"\u001b[39;49m\u001b[39mmemory_map\u001b[39;49m\u001b[39m\"\u001b[39;49m, \u001b[39mFalse\u001b[39;49;00m),\n\u001b[1;32m   1711\u001b[0m     is_text\u001b[39m=\u001b[39;49mis_text,\n\u001b[1;32m   1712\u001b[0m     errors\u001b[39m=\u001b[39;49m\u001b[39mself\u001b[39;49m\u001b[39m.\u001b[39;49moptions\u001b[39m.\u001b[39;49mget(\u001b[39m\"\u001b[39;49m\u001b[39mencoding_errors\u001b[39;49m\u001b[39m\"\u001b[39;49m, \u001b[39m\"\u001b[39;49m\u001b[39mstrict\u001b[39;49m\u001b[39m\"\u001b[39;49m),\n\u001b[1;32m   1713\u001b[0m     storage_options\u001b[39m=\u001b[39;49m\u001b[39mself\u001b[39;49m\u001b[39m.\u001b[39;49moptions\u001b[39m.\u001b[39;49mget(\u001b[39m\"\u001b[39;49m\u001b[39mstorage_options\u001b[39;49m\u001b[39m\"\u001b[39;49m, \u001b[39mNone\u001b[39;49;00m),\n\u001b[1;32m   1714\u001b[0m )\n\u001b[1;32m   1715\u001b[0m \u001b[39massert\u001b[39;00m \u001b[39mself\u001b[39m\u001b[39m.\u001b[39mhandles \u001b[39mis\u001b[39;00m \u001b[39mnot\u001b[39;00m \u001b[39mNone\u001b[39;00m\n\u001b[1;32m   1716\u001b[0m f \u001b[39m=\u001b[39m \u001b[39mself\u001b[39m\u001b[39m.\u001b[39mhandles\u001b[39m.\u001b[39mhandle\n",
      "File \u001b[0;32m~/.local/lib/python3.11/site-packages/pandas/io/common.py:863\u001b[0m, in \u001b[0;36mget_handle\u001b[0;34m(path_or_buf, mode, encoding, compression, memory_map, is_text, errors, storage_options)\u001b[0m\n\u001b[1;32m    858\u001b[0m \u001b[39melif\u001b[39;00m \u001b[39misinstance\u001b[39m(handle, \u001b[39mstr\u001b[39m):\n\u001b[1;32m    859\u001b[0m     \u001b[39m# Check whether the filename is to be opened in binary mode.\u001b[39;00m\n\u001b[1;32m    860\u001b[0m     \u001b[39m# Binary mode does not support 'encoding' and 'newline'.\u001b[39;00m\n\u001b[1;32m    861\u001b[0m     \u001b[39mif\u001b[39;00m ioargs\u001b[39m.\u001b[39mencoding \u001b[39mand\u001b[39;00m \u001b[39m\"\u001b[39m\u001b[39mb\u001b[39m\u001b[39m\"\u001b[39m \u001b[39mnot\u001b[39;00m \u001b[39min\u001b[39;00m ioargs\u001b[39m.\u001b[39mmode:\n\u001b[1;32m    862\u001b[0m         \u001b[39m# Encoding\u001b[39;00m\n\u001b[0;32m--> 863\u001b[0m         handle \u001b[39m=\u001b[39m \u001b[39mopen\u001b[39;49m(\n\u001b[1;32m    864\u001b[0m             handle,\n\u001b[1;32m    865\u001b[0m             ioargs\u001b[39m.\u001b[39;49mmode,\n\u001b[1;32m    866\u001b[0m             encoding\u001b[39m=\u001b[39;49mioargs\u001b[39m.\u001b[39;49mencoding,\n\u001b[1;32m    867\u001b[0m             errors\u001b[39m=\u001b[39;49merrors,\n\u001b[1;32m    868\u001b[0m             newline\u001b[39m=\u001b[39;49m\u001b[39m\"\u001b[39;49m\u001b[39m\"\u001b[39;49m,\n\u001b[1;32m    869\u001b[0m         )\n\u001b[1;32m    870\u001b[0m     \u001b[39melse\u001b[39;00m:\n\u001b[1;32m    871\u001b[0m         \u001b[39m# Binary mode\u001b[39;00m\n\u001b[1;32m    872\u001b[0m         handle \u001b[39m=\u001b[39m \u001b[39mopen\u001b[39m(handle, ioargs\u001b[39m.\u001b[39mmode)\n",
      "\u001b[0;31mFileNotFoundError\u001b[0m: [Errno 2] No such file or directory: 'assets/real_estate.csv'"
     ]
    }
   ],
   "source": [
    "import pandas as pd\n",
    "import matplotlib as plt\n",
    "# this CSV file contains semicolons instead of comas as separator\n",
    "ds = pd.read_csv('assets/real_estate.csv', sep=';')\n",
    "ds"
   ]
  },
  {
   "attachments": {},
   "cell_type": "markdown",
   "id": "latin-guest",
   "metadata": {},
   "source": [
    "#### Exercise 01. Which is the most expensive house in the dataset? (★☆☆)\n",
    "\n",
    "Print the address and the price of the selected house. For example:\n",
    "\n",
    "`The house with address General Street Nº5 is the most expensive and its price is 5000000 USD`"
   ]
  },
  {
   "cell_type": "code",
   "execution_count": 2,
   "id": "developing-optimum",
   "metadata": {},
   "outputs": [
    {
     "name": "stdout",
     "output_type": "stream",
     "text": [
      "The house with address: El Escorial is the most expensive and its price is 8500000\n"
     ]
    }
   ],
   "source": [
    "max_price= (ds['price'].max())\n",
    "idx_max = ds['price'].idxmax()\n",
    "address = ds.loc[idx_max,'address']\n",
    "print(f\"The house with address:\", address , \"is the most expensive and its price is\" , max_price)"
   ]
  },
  {
   "attachments": {},
   "cell_type": "markdown",
   "id": "lesser-cosmetic",
   "metadata": {},
   "source": [
    "#### Exercise 02. Which is cheapest house in the dataset? (★☆☆)\n",
    "\n",
    "Print the address and the price of the selected house. For example:\n",
    "\n",
    "`The house with address Concrete Street Nº1 is the cheapest and its price is 12000 USD`"
   ]
  },
  {
   "cell_type": "code",
   "execution_count": 3,
   "id": "lovely-oasis",
   "metadata": {},
   "outputs": [
    {
     "name": "stdout",
     "output_type": "stream",
     "text": [
      "The house with address: Berlin, Coslada is the cheapest and its price is: €600\n"
     ]
    }
   ],
   "source": [
    "index_of_min = ds[ds['price'] > 0]['price'].idxmin()\n",
    "min_price = ds.loc[index_of_min, 'price']\n",
    "address = ds.loc[index_of_min, 'address']\n",
    "\n",
    "print(f'The house with address: {address} is the cheapest and its price is: €{min_price}')"
   ]
  },
  {
   "attachments": {},
   "cell_type": "markdown",
   "id": "compliant-fellowship",
   "metadata": {},
   "source": [
    "#### Exercise 03. Which is the biggest and the smallest house in the dataset? (★☆☆)\n",
    "\n",
    "Print both the address and the surface of the selected houses. For example:\n",
    "\n",
    "`The bigger house is located on Yukka Street Nº10 and its surface is 5000 meters`\n",
    "\n",
    "`The smaller house is located on County Road 1 N and its surface is 200 meters`"
   ]
  },
  {
   "cell_type": "code",
   "execution_count": 4,
   "id": "every-tiffany",
   "metadata": {},
   "outputs": [
    {
     "name": "stdout",
     "output_type": "stream",
     "text": [
      "The bigger house is located on Sevilla la Nueva and its surface is 249000.0\n",
      "The smaller house is located on Calle Amparo,  Madrid Capital and its surface is 15.0\n"
     ]
    }
   ],
   "source": [
    "max_surface= (ds['surface'].max())\n",
    "idx_max_surf = ds['surface'].idxmax()\n",
    "address2 = ds.loc[idx_max_surf,'address']\n",
    "print(f\"The bigger house is located on\", address2, \"and its surface is\", max_surface)\n",
    "min_surface= (ds['surface'].min())\n",
    "idx_min_surf = ds['surface'].idxmin()\n",
    "address3 = ds.loc[idx_min_surf,'address']\n",
    "print(f\"The smaller house is located on\", address3, \"and its surface is\", min_surface)"
   ]
  },
  {
   "attachments": {},
   "cell_type": "markdown",
   "id": "danish-spirit",
   "metadata": {},
   "source": [
    "#### Exercise 04. How many populations (level5 column) the dataset contains? (★☆☆)\n",
    "\n",
    "Print the name of the populations with comma as separator. For example:\n",
    "\n",
    "`> print(populations)`\n",
    "\n",
    "`population1, population2, population3,...`"
   ]
  },
  {
   "cell_type": "code",
   "execution_count": 5,
   "id": "exciting-accreditation",
   "metadata": {},
   "outputs": [
    {
     "name": "stdout",
     "output_type": "stream",
     "text": [
      "['Arganda del Rey', 'Fuenlabrada', 'Boadilla del Monte', 'Las Rozas de Madrid', ' Madrid Capital', 'Villaviciosa de Odón', 'Pinto', 'Valdemoro', 'Navalcarnero', 'Pozuelo de Alarcón', 'Torrejón de Ardoz', 'Navalagamella', 'San Sebastián de los Reyes', 'Rivas-vaciamadrid', 'Alpedrete', 'Móstoles', 'San Fernando de Henares', 'Coslada', 'Becerril de la Sierra', 'Alcalá de Henares', 'Chinchón', 'Parla', 'Alcorcón', 'El Escorial', 'Leganés', 'Pedrezuela', 'Majadahonda', 'Villanueva de la Cañada', 'Villanueva del Pardillo', 'Torrelodones', 'Moralzarzal', 'Mejorada del Campo', 'Aranjuez', 'Corpa', 'Getafe', 'Velilla de San Antonio', 'Sevilla la Nueva', 'San Martín de la Vega', 'Villalbilla', 'Collado Villalba', 'Alcobendas', 'El Molar (Madrid)', 'Moraleja de Enmedio', 'Algete', 'Campo Real', 'Torrejón de la Calzada', 'Colmenar Viejo', 'Valdemorillo', 'Fuente El Saz de Jarama', 'Tres Cantos', 'Arroyomolinos (Madrid)', 'Griñón', 'Paracuellos de Jarama', 'Guadarrama', 'Titulcia', 'Galapagar', 'Collado Mediano', 'Los Molinos', 'San Lorenzo de El Escorial', 'Loeches', 'San Martín de Valdeiglesias', 'Navas del Rey', 'Bustarviejo', 'Manzanares El Real', 'Carabaña', 'Casarrubuelos', 'Cercedilla', 'Fresnedillas de la Oliva', 'Valdemaqueda', 'Robledo de Chavela', 'Miraflores de la Sierra', 'Humanes de Madrid', 'Valdetorres de Jarama', 'San Agustín del Guadalix', 'Ciempozuelos', 'Camarma de Esteruelas', 'Torres de la Alameda', 'Talamanca de Jarama', 'El Atazar', 'Hoyo de Manzanares', 'El Boalo - Cerceda – Mataelpino', 'El Álamo', 'Valdilecha', 'Valdeolmos-Alalpardo', 'Guadalix de la Sierra', 'Belmonte de Tajo', 'El Vellón', 'Brunete', 'Redueña', 'Morata de Tajuña', 'Tielmes', 'Gargantilla del Lozoya', 'Meco', 'Venturada', 'Quijorna', 'Cenicientos', 'Torrejón de Velasco', 'Navacerrada', 'Santa María de la Alameda', 'Orusco de Tajuña', 'Daganzo de Arriba', 'Villamanta', 'Anchuelo', 'Valdaracete', 'Ajalvir', 'Los Santos de la Humosa', 'Villamanrique de Tajo', 'Colmenar de Oreja', 'Villa del Prado', 'Fuentidueña de Tajo', 'Colmenar del Arroyo', 'Valdelaguna', 'Cubas de la Sagra', 'Valdeavero', 'Aldea del Fresno', 'Ribatejada', 'Torrelaguna', 'Batres', 'Pezuela de las Torres', 'Colmenarejo', 'Serranillos del Valle', 'Cobeña', 'Soto del Real', 'El Berrueco', 'Villanueva de Perales', 'Fresno de Torote - Serracines', 'Pozuelo del Rey', 'Pelayos de la Presa', 'La Cabrera', 'Nuevo Baztán', 'Perales de Tajuña', 'Villaconejos', 'Villarejo de Salvanés', 'Cadalso de los Vidrios', 'Santorcaz', 'Madarcos', 'Garganta de los Montes', 'Puentes Viejas', 'Torremocha de Jarama', 'Valdemanco', 'Braojos', 'Lozoyuela-navas-sieteiglesias', 'Piñuécar-gandullas', 'Valdepiélagos', 'Valverde de Alcalá', 'Villar del Olmo', 'Villamantilla', 'Horcajo de la Sierra', 'Gascones', 'Zarzalejo', 'Villavieja del Lozoya', 'Brea de Tajo', 'Estremera', 'Chapinería', 'Navarredonda', 'Patones', 'Ambite', 'Navalafuente', 'Lozoya', 'Canencia', 'Cabanillas de la Sierra', 'Buitrago del Lozoya', 'Fresno de Torote', 'Robregordo', 'Pinilla del Valle', 'Rascafría', 'La Hiruela', 'Montejo de la Sierra']\n"
     ]
    }
   ],
   "source": [
    "a = ds.get('level5')\n",
    "b = a.tolist()\n",
    "c = list(dict.fromkeys(b))\n",
    "print(c)"
   ]
  },
  {
   "attachments": {},
   "cell_type": "markdown",
   "id": "crazy-blame",
   "metadata": {},
   "source": [
    "#### Exercise 05. Does the dataset contain NAs? (★☆☆)\n",
    "\n",
    "Print a boolean value (`true` or `fase`) followed by the rows/cols that contains NAs."
   ]
  },
  {
   "cell_type": "code",
   "execution_count": 6,
   "id": "transparent-poetry",
   "metadata": {},
   "outputs": [
    {
     "name": "stdout",
     "output_type": "stream",
     "text": [
      "       Unnamed: 0  id_realEstates  isNew  realEstate_name  phone_realEstate  \\\n",
      "0           False           False  False            False             False   \n",
      "1           False           False  False            False             False   \n",
      "2           False           False  False            False             False   \n",
      "3           False           False  False            False             False   \n",
      "4           False           False  False            False             False   \n",
      "...           ...             ...    ...              ...               ...   \n",
      "15330       False           False  False            False             False   \n",
      "15331       False           False  False            False             False   \n",
      "15332       False           False  False            False             False   \n",
      "15333       False           False  False            False             False   \n",
      "15334       False           False  False            False             False   \n",
      "\n",
      "       url_inmueble  rooms  bathrooms  surface  price  ...  level4Id  \\\n",
      "0             False  False      False    False  False  ...     False   \n",
      "1             False  False      False     True  False  ...     False   \n",
      "2             False  False      False    False  False  ...     False   \n",
      "3             False  False      False    False  False  ...     False   \n",
      "4             False  False      False    False  False  ...     False   \n",
      "...             ...    ...        ...      ...    ...  ...       ...   \n",
      "15330         False  False      False    False  False  ...     False   \n",
      "15331         False  False      False    False  False  ...     False   \n",
      "15332         False  False      False    False  False  ...     False   \n",
      "15333         False  False      False    False  False  ...     False   \n",
      "15334         False  False      False    False  False  ...     False   \n",
      "\n",
      "       level5Id  level6Id  level7Id  level8Id  accuracy  latitude  longitude  \\\n",
      "0         False     False     False     False     False     False      False   \n",
      "1         False     False     False     False     False     False      False   \n",
      "2         False     False     False     False     False     False      False   \n",
      "3         False     False     False     False     False     False      False   \n",
      "4         False     False     False     False     False     False      False   \n",
      "...         ...       ...       ...       ...       ...       ...        ...   \n",
      "15330     False     False     False     False     False     False      False   \n",
      "15331     False     False     False     False     False     False      False   \n",
      "15332     False     False     False     False     False     False      False   \n",
      "15333     False     False     False     False     False     False      False   \n",
      "15334     False     False     False     False     False     False      False   \n",
      "\n",
      "       zipCode  customZone  \n",
      "0         True        True  \n",
      "1         True        True  \n",
      "2         True        True  \n",
      "3         True        True  \n",
      "4         True        True  \n",
      "...        ...         ...  \n",
      "15330     True        True  \n",
      "15331     True        True  \n",
      "15332     True        True  \n",
      "15333     True        True  \n",
      "15334     True        True  \n",
      "\n",
      "[15335 rows x 37 columns]\n"
     ]
    }
   ],
   "source": [
    "p= ds.isnull()\n",
    "print(p)"
   ]
  },
  {
   "attachments": {},
   "cell_type": "markdown",
   "id": "italic-hydrogen",
   "metadata": {},
   "source": [
    "#### Exercise 06. Delete the NAs of the dataset, if applicable (★★☆)\n",
    "\n",
    "Print a comparison between the dimensions of the original DataFrame versus the DataFrame after the deletions"
   ]
  },
  {
   "cell_type": "code",
   "execution_count": 7,
   "id": "administrative-roads",
   "metadata": {},
   "outputs": [
    {
     "name": "stdout",
     "output_type": "stream",
     "text": [
      "RangeIndex(start=0, stop=15335, step=1)\n",
      "RangeIndex(start=0, stop=15335, step=1)\n"
     ]
    }
   ],
   "source": [
    "ds2 = ds.fillna(0)\n",
    "print(ds.index) \n",
    "print(ds2.index)"
   ]
  },
  {
   "attachments": {},
   "cell_type": "markdown",
   "id": "middle-china",
   "metadata": {},
   "source": [
    "#### Exercise 07. Which is the mean of prices in the population (level5 column) of \"Arroyomolinos (Madrid)\"? (★★☆)\n",
    "\n",
    "Print the obtained value"
   ]
  },
  {
   "cell_type": "code",
   "execution_count": 8,
   "id": "nuclear-belief",
   "metadata": {},
   "outputs": [
    {
     "name": "stdout",
     "output_type": "stream",
     "text": [
      "294541.59854014596\n"
     ]
    }
   ],
   "source": [
    "arroyo_molinos = ds.loc[ds['level5'] == \"Arroyomolinos (Madrid)\"]\n",
    "p=arroyo_molinos['price']\n",
    "mean_arroyo=p.mean()\n",
    "print(mean_arroyo)"
   ]
  },
  {
   "attachments": {},
   "cell_type": "markdown",
   "id": "concerned-radical",
   "metadata": {},
   "source": [
    "#### Exercise 08. Plot the histogram of prices for the population (level5 column) of \"Arroyomolinos (Madrid)\" and explain what you observe (★★☆)\n",
    "\n",
    "Print the histogram of the prices and write in the Markdown cell a brief analysis about the plot."
   ]
  },
  {
   "cell_type": "code",
   "execution_count": null,
   "id": "sudden-message",
   "metadata": {},
   "outputs": [],
   "source": []
  },
  {
   "attachments": {},
   "cell_type": "markdown",
   "id": "impressed-combination",
   "metadata": {},
   "source": [
    "**TODO: Markdown**. To write here, double click to this cell and just remove this content and place the text you want to write. Then, execute the cell."
   ]
  },
  {
   "attachments": {},
   "cell_type": "markdown",
   "id": "actual-edinburgh",
   "metadata": {},
   "source": [
    "#### Exercise 09. Is the average of \"Valdemorillo\" and \"Galapagar\" prices the same? (★★☆)\n",
    "\n",
    "Print the both average prices and then write a conclusion about them"
   ]
  },
  {
   "cell_type": "code",
   "execution_count": 10,
   "id": "numeric-commerce",
   "metadata": {},
   "outputs": [
    {
     "name": "stdout",
     "output_type": "stream",
     "text": [
      "363860.2931034483\n",
      "360063.20238095237\n"
     ]
    }
   ],
   "source": [
    "Valdemorillo = ds.loc[ds['level5'] == \"Valdemorillo\"]\n",
    "p1=Valdemorillo['price']\n",
    "mean_Valdemorillo=p1.mean()\n",
    "print(mean_Valdemorillo)\n",
    "\n",
    "Galapagar = ds.loc[ds['level5'] == \"Galapagar\"]\n",
    "p2=Galapagar['price']\n",
    "mean_Galapagar=p2.mean()\n",
    "print(mean_Galapagar)\n",
    "\n",
    "#The mean price are basically the same, Valdemorillo has a bigger mean number , only over 3000."
   ]
  },
  {
   "attachments": {},
   "cell_type": "markdown",
   "id": "lonely-article",
   "metadata": {},
   "source": [
    "#### Exercise 10. Is the average of \"Valdemorillo\" and \"Galapagar\" price per square meter (price/m2) the same? (★★☆)\n",
    "\n",
    "Print the both average prices and then write a conclusion about\n",
    "\n",
    "Hint: Create a new column called `pps` (price per square) and then analyse the values"
   ]
  },
  {
   "cell_type": "code",
   "execution_count": 11,
   "id": "hourly-globe",
   "metadata": {},
   "outputs": [
    {
     "name": "stdout",
     "output_type": "stream",
     "text": [
      "       Unnamed: 0  id_realEstates  isNew               realEstate_name  \\\n",
      "390           391       150350773  False           inmobiliaria gopard   \n",
      "545           546       153652973  False              remax punto cero   \n",
      "576           577       153002099  False                      sosdivar   \n",
      "617           618       150786470  False             grupo sigame 24hr   \n",
      "731           732       152777104  False              remax punto cero   \n",
      "...           ...             ...    ...                           ...   \n",
      "14850       14851       153173530  False        prorealty inmobiliaria   \n",
      "14887       14888       153913359  False  a casa coaching inmobiliario   \n",
      "14911       14912       153723972  False             urbenorte pozuelo   \n",
      "14913       14914       153722435  False             urbenorte pozuelo   \n",
      "15059       15060       153826016  False   mam gestiones inmobiliarias   \n",
      "\n",
      "       phone_realEstate                                       url_inmueble  \\\n",
      "390                 NaN  https://www.fotocasa.es/es/comprar/vivienda/ma...   \n",
      "545         912176425.0  https://www.fotocasa.es/es/comprar/vivienda/vi...   \n",
      "576         914890914.0  https://www.fotocasa.es/es/comprar/vivienda/pa...   \n",
      "617         911367437.0  https://www.fotocasa.es/es/comprar/vivienda/ma...   \n",
      "731         912176425.0  https://www.fotocasa.es/es/comprar/vivienda/ge...   \n",
      "...                 ...                                                ...   \n",
      "14850       912664437.0  https://www.fotocasa.es/es/comprar/vivienda/la...   \n",
      "14887       911228327.0  https://www.fotocasa.es/es/comprar/vivienda/pa...   \n",
      "14911       911790847.0  https://www.fotocasa.es/es/comprar/vivienda/pa...   \n",
      "14913       911790847.0  https://www.fotocasa.es/es/comprar/vivienda/pa...   \n",
      "15059       911365778.0  https://www.fotocasa.es/es/comprar/vivienda/pi...   \n",
      "\n",
      "       rooms  bathrooms  surface   price  ... level5Id level6Id level7Id  \\\n",
      "390      3.0        1.0     85.0  160000  ...        0        0        0   \n",
      "545      4.0        4.0    426.0  749000  ...        0        0        0   \n",
      "576      6.0        4.0    575.0  798500  ...        0        0        0   \n",
      "617      6.0        3.0    400.0  420000  ...        0        0        0   \n",
      "731      5.0        6.0    525.0  660000  ...        0        0        0   \n",
      "...      ...        ...      ...     ...  ...      ...      ...      ...   \n",
      "14850    4.0        4.0    291.0  415000  ...        0        0        0   \n",
      "14887    5.0        3.0    433.0  312000  ...        0        0        0   \n",
      "14911    4.0        4.0      NaN  530000  ...        0        0        0   \n",
      "14913    4.0        3.0    161.0  275000  ...        0        0        0   \n",
      "15059    1.0        1.0     55.0  103000  ...        0        0        0   \n",
      "\n",
      "      level8Id accuracy    latitude   longitude zipCode customZone  \\\n",
      "390          0        0    40,50009    -4,07059     NaN        NaN   \n",
      "545          0        0     40,4899     -4,0227     NaN        NaN   \n",
      "576          0        1    40,54863    -3,98895     NaN        NaN   \n",
      "617          0        0    40,58297     -3,9646     NaN        NaN   \n",
      "731          0        0    40,56148    -3,97243     NaN        NaN   \n",
      "...        ...      ...         ...         ...     ...        ...   \n",
      "14850        0        0  40,5781972  -4,0231467     NaN        NaN   \n",
      "14887        0        0    40,50901    -4,04104     NaN        NaN   \n",
      "14911        0        0    40,53755    -4,08728     NaN        NaN   \n",
      "14913        0        0    40,50054    -4,05651     NaN        NaN   \n",
      "15059        0        1    40,49998    -4,06828     NaN        NaN   \n",
      "\n",
      "               PPS  \n",
      "390    1882.352941  \n",
      "545    1758.215962  \n",
      "576    1388.695652  \n",
      "617    1050.000000  \n",
      "731    1257.142857  \n",
      "...            ...  \n",
      "14850  1426.116838  \n",
      "14887   720.554273  \n",
      "14911          NaN  \n",
      "14913  1708.074534  \n",
      "15059  1872.727273  \n",
      "\n",
      "[142 rows x 38 columns]\n"
     ]
    },
    {
     "name": "stderr",
     "output_type": "stream",
     "text": [
      "/tmp/ipykernel_6039/3120737599.py:2: SettingWithCopyWarning: \n",
      "A value is trying to be set on a copy of a slice from a DataFrame.\n",
      "Try using .loc[row_indexer,col_indexer] = value instead\n",
      "\n",
      "See the caveats in the documentation: https://pandas.pydata.org/pandas-docs/stable/user_guide/indexing.html#returning-a-view-versus-a-copy\n",
      "  ps1[\"PPS\"] = ps1[\"price\"] / ps1[\"surface\"]\n"
     ]
    }
   ],
   "source": [
    "ps1 = ds[ds[\"level5\"].isin([\"Valdemorillo\",\"Galapagar\"])]\n",
    "ps1[\"PPS\"] = ps1[\"price\"] / ps1[\"surface\"]\n",
    "print(ps1)"
   ]
  },
  {
   "attachments": {},
   "cell_type": "markdown",
   "id": "pleasant-invite",
   "metadata": {},
   "source": [
    "#### Exercise 11. Analyse the relation between the surface and the price of the houses (★★☆)\n",
    "\n",
    "Hint: You can make a `scatter plot` and then write a conclusion about it"
   ]
  },
  {
   "cell_type": "code",
   "execution_count": 12,
   "id": "common-drilling",
   "metadata": {},
   "outputs": [
    {
     "data": {
      "image/png": "[encoded data removed]",
      "text/plain": [
       "<Figure size 1000x600 with 1 Axes>"
      ]
     },
     "metadata": {},
     "output_type": "display_data"
    }
   ],
   "source": [
    "import matplotlib.pyplot as plt\n",
    "\n",
    "#ds_surface_cleaned = ds.dropna(axis = 0,how='all')\n",
    "\n",
    "\n",
    "# Extract the 'surface' column from the cleaned DataFrame\n",
    "ds_surface_cleaned = ds.dropna(subset=['surface'])\n",
    "surface_data = ds_surface_cleaned['surface']\n",
    "\n",
    "\n",
    "plt.figure(figsize=(10, 6))\n",
    "plt.scatter(Valdemorillo['price'],Valdemorillo['surface'])\n",
    "plt.show()"
   ]
  },
  {
   "attachments": {},
   "cell_type": "markdown",
   "id": "ahead-liquid",
   "metadata": {},
   "source": [
    "**TODO: Markdown**. To write here, double click to this cell and just remove this content and place the text you want to write. Then, execute the cell."
   ]
  },
  {
   "attachments": {},
   "cell_type": "markdown",
   "id": "coordinate-sunrise",
   "metadata": {},
   "source": [
    "#### Exercise 12. How many real estate agencies the dataset contains? (★★☆)\n",
    "\n",
    "Print the obtained value"
   ]
  },
  {
   "cell_type": "code",
   "execution_count": 13,
   "id": "valid-honolulu",
   "metadata": {},
   "outputs": [
    {
     "name": "stdout",
     "output_type": "stream",
     "text": [
      "Total of 1822 agencies\n"
     ]
    }
   ],
   "source": [
    "agencies = ds[\"realEstate_name\"]\n",
    "total =(set(agencies))\n",
    "print(\"Total of\",len(total), \"agencies\")"
   ]
  },
  {
   "attachments": {},
   "cell_type": "markdown",
   "id": "binding-ebony",
   "metadata": {},
   "source": [
    "#### Exercise 13. Which is the population (level5 column) that contains the most houses? (★★☆)\n",
    "\n",
    "Print both the population and the number of houses"
   ]
  },
  {
   "cell_type": "code",
   "execution_count": 14,
   "id": "static-perry",
   "metadata": {},
   "outputs": [
    {
     "name": "stdout",
     "output_type": "stream",
     "text": [
      "[(' Madrid Capital', 6643)]\n"
     ]
    }
   ],
   "source": [
    "from collections import Counter\n",
    "\n",
    "population = ds[\"level5\"]\n",
    "a = list(population)\n",
    "print(Counter(a).most_common(1))"
   ]
  },
  {
   "attachments": {},
   "cell_type": "markdown",
   "id": "entire-classification",
   "metadata": {},
   "source": [
    "#### Exercise 14. Now let's work with the \"south belt\" of madrid. Make a subset of the original DataFrame that contains the following populations (level5 column): \"Fuenlabrada\",\"Leganés\",\"Getafe\",\"Alcorcón\" (★★☆)\n",
    "\n",
    "Hint: Filter the original DataFrame using the column `level5` and the function `isin`"
   ]
  },
  {
   "cell_type": "code",
   "execution_count": 15,
   "id": "binary-input",
   "metadata": {},
   "outputs": [
    {
     "name": "stdout",
     "output_type": "stream",
     "text": [
      "       Unnamed: 0  id_realEstates  isNew  \\\n",
      "1               2       153867863  False   \n",
      "3               4       152776331  False   \n",
      "85             86       153152077  False   \n",
      "94             95       153995577  False   \n",
      "109           110       153586414  False   \n",
      "...           ...             ...    ...   \n",
      "15275       15276       153903887  False   \n",
      "15291       15292       151697757  False   \n",
      "15305       15306       153902389  False   \n",
      "15322       15323       153871864  False   \n",
      "15325       15326       153901467  False   \n",
      "\n",
      "                                 realEstate_name  phone_realEstate  \\\n",
      "1              tecnocasa fuenlabrada ferrocarril       916358736.0   \n",
      "3              tecnocasa fuenlabrada ferrocarril       916358736.0   \n",
      "85                       sinergical inmobiliaria               NaN   \n",
      "94                               viviendas365com       911226014.0   \n",
      "109              area uno asesores inmobiliarios       912664081.0   \n",
      "...                                          ...               ...   \n",
      "15275  aliseda servicios de gestion inmobiliaria       911368198.0   \n",
      "15291                                    unipiso       912788631.0   \n",
      "15305                             jadein ferrero       914871639.0   \n",
      "15322                          gestion comercial       911220662.0   \n",
      "15325                              montehogar 68       911790675.0   \n",
      "\n",
      "                                            url_inmueble  rooms  bathrooms  \\\n",
      "1      https://www.fotocasa.es/es/comprar/vivienda/ma...    3.0        1.0   \n",
      "3      https://www.fotocasa.es/es/comprar/vivienda/ma...    3.0        1.0   \n",
      "85     https://www.fotocasa.es/es/comprar/vivienda/le...    1.0        1.0   \n",
      "94     https://www.fotocasa.es/es/comprar/vivienda/le...    3.0        2.0   \n",
      "109    https://www.fotocasa.es/es/comprar/vivienda/ma...    3.0        3.0   \n",
      "...                                                  ...    ...        ...   \n",
      "15275  https://www.fotocasa.es/es/comprar/vivienda/al...    3.0        1.0   \n",
      "15291  https://www.fotocasa.es/es/comprar/vivienda/al...    3.0        2.0   \n",
      "15305  https://www.fotocasa.es/es/comprar/vivienda/ma...    3.0        2.0   \n",
      "15322  https://www.fotocasa.es/es/comprar/vivienda/ma...    3.0        1.0   \n",
      "15325  https://www.fotocasa.es/es/comprar/vivienda/ma...    2.0        2.0   \n",
      "\n",
      "       surface   price  ... level4Id level5Id level6Id level7Id level8Id  \\\n",
      "1          NaN   89000  ...        0        0        0        0        0   \n",
      "3         86.0   89000  ...        0        0        0        0        0   \n",
      "85        50.0  107000  ...        0        0        0        0        0   \n",
      "94       120.0  320000  ...        0        0        0        0        0   \n",
      "109      142.0  425000  ...        0        0        0        0        0   \n",
      "...        ...     ...  ...      ...      ...      ...      ...      ...   \n",
      "15275     78.0  138000  ...        0        0        0        0        0   \n",
      "15291    110.0  279000  ...        0        0        0        0        0   \n",
      "15305     85.0  170000  ...        0        0        0        0        0   \n",
      "15322     91.0  112000  ...        0        0        0        0        0   \n",
      "15325     99.0  215000  ...        0        0        0        0        0   \n",
      "\n",
      "      accuracy          latitude          longitude zipCode customZone  \n",
      "1            1          40,28674           -3,79351     NaN        NaN  \n",
      "3            0  40,2853785786438  -3,79508142135624     NaN        NaN  \n",
      "85           1          40,35059           -3,82693     NaN        NaN  \n",
      "94           0          40,31933           -3,77574     NaN        NaN  \n",
      "109          0        40,3313411         -3,8313868     NaN        NaN  \n",
      "...        ...               ...                ...     ...        ...  \n",
      "15275        1          40,31381           -3,83733     NaN        NaN  \n",
      "15291        0        40,3259051           -3,76318     NaN        NaN  \n",
      "15305        0        40,2882193         -3,8098617     NaN        NaN  \n",
      "15322        0          40,28282           -3,78892     NaN        NaN  \n",
      "15325        1          40,28062           -3,79869     NaN        NaN  \n",
      "\n",
      "[907 rows x 37 columns]\n"
     ]
    }
   ],
   "source": [
    "ciudades1 = ds[ds[\"level5\"].isin([\"Fuenlabrada\",\"Leganés\",\"Getafe\",\"Alcorcón\"])]\n",
    "print(ciudades1)"
   ]
  },
  {
   "attachments": {},
   "cell_type": "markdown",
   "id": "severe-fisher",
   "metadata": {},
   "source": [
    "#### Exercise 15. Make a bar plot of the median of the prices and explain what you observe (you must use the subset obtained in the question 14) (★★★)\n",
    "\n",
    "Print the bar of the median of the prices and write in the Markdown cell a brief analysis about the plot"
   ]
  },
  {
   "cell_type": "code",
   "execution_count": 16,
   "id": "lyric-bunch",
   "metadata": {},
   "outputs": [
    {
     "data": {
      "image/png": "[encoded data removed]",
      "text/plain": [
       "<Figure size 640x480 with 1 Axes>"
      ]
     },
     "metadata": {},
     "output_type": "display_data"
    }
   ],
   "source": [
    "from numpy import median\n",
    "import matplotlib.pyplot as plt\n",
    "ciudades1 = ds[ds[\"level5\"].isin([\"Fuenlabrada\",\"Leganés\",\"Getafe\",\"Alcorcón\"])]\n",
    "\n",
    "a = ciudades1.loc[ciudades1['level5'] == \"Fuenlabrada\"]\n",
    "median_fuenlabrada=a['price'].median()\n",
    "\n",
    "b = ciudades1.loc[ciudades1['level5'] == \"Leganés\"]\n",
    "median_leganes=b['price'].median()\n",
    "\n",
    "c = ciudades1.loc[ciudades1['level5'] == \"Getafe\"]\n",
    "median_getafe=c['price'].median()\n",
    "\n",
    "d = ciudades1.loc[ciudades1['level5'] == \"Alcorcón\"]\n",
    "median_alcorcon=d['price'].median()\n",
    "\n",
    "positions = [median_alcorcon,median_fuenlabrada,median_getafe,median_leganes]\n",
    "labels = [\"Fuenlabrada\",\"Leganés\",\"Getafe\",\"Alcorcón\"]\n",
    "plt.bar(labels,positions)\n",
    "plt.show()\n",
    "\n",
    "#In Getafe we can see that the meridian price is higher than in the rest of the populations."
   ]
  },
  {
   "attachments": {},
   "cell_type": "markdown",
   "id": "sublime-newspaper",
   "metadata": {},
   "source": [
    "**TODO: Markdown**. To write here, double click to this cell and just remove this content and place the text you want to write. Then, execute the cell."
   ]
  },
  {
   "attachments": {},
   "cell_type": "markdown",
   "id": "speaking-diamond",
   "metadata": {},
   "source": [
    "#### Exercise 16. Calculate the sample mean and variance of the variables: price, rooms, surface area and bathrooms (you must use the subset obtained in the question 14) (★★★)\n",
    "\n",
    "Print both values for each variable"
   ]
  },
  {
   "cell_type": "code",
   "execution_count": 17,
   "id": "random-feeling",
   "metadata": {},
   "outputs": [
    {
     "name": "stdout",
     "output_type": "stream",
     "text": [
      "Superficie, Precios, Habitaciones y Baños de FUENLABRADA (MEDIANA)\n",
      "88.0 155000.0 3.0 1.0\n",
      "Superficie, Precios, Habitaciones y Baños de FUENLABRADA (VARIABLE)\n",
      "2264.6438930902314 4701020700.469365 0.3558441558441558 0.3533670420592967\n",
      "-------------------------------------------------------------------\n",
      "Superficie, Precios, Habitaciones y Baños de LEGANES (MEDIANA)\n",
      "80.0 169950.0 3.0 1.0\n",
      "Superficie, Precios, Habitaciones y Baños de LEGANES (VARIABLE)\n",
      "3987.475194805194 11913940043.502485 0.8245898100172712 0.5530548359240068\n",
      "-------------------------------------------------------------------\n",
      "Superficie, Precios, Habitaciones y Baños de GETAFE (MEDIANA)\n",
      "116.0 285305.0 3.0 2.0\n",
      "Superficie, Precios, Habitaciones y Baños de GETAFE (VARIABLE)\n",
      "5828.110027662518 20982665802.243946 0.7727478821143063 0.6588091118800461\n",
      "-------------------------------------------------------------------\n",
      "Superficie, Precios, Habitaciones y Baños de ALCORCON (MEDIANA)\n",
      "85.0 179500.0 3.0 1.0\n",
      "Superficie, Precios, Habitaciones y Baños de ALCORCON (VARIABLE)\n",
      "4244.323833848635 15947825983.013088 0.9338946410285586 0.592734670154025\n"
     ]
    }
   ],
   "source": [
    "import numpy as np\n",
    "ds = pd.read_csv('assets/real_estate.csv', sep=';')\n",
    "madrid = ds[ds[\"level5\"].isin([\"Fuenlabrada\",\"Leganés\",\"Getafe\",\"Alcorcón\"])]\n",
    "sl_1 = ds[ds[\"level5\"].isin([\"Fuenlabrada\"])]\n",
    "sl_2 = ds[ds[\"level5\"].isin([\"Leganés\"])]\n",
    "sl_3 = ds[ds[\"level5\"].isin([\"Getafe\"])]\n",
    "sl_4 = ds[ds[\"level5\"].isin([\"Alcorcón\"])]\n",
    "#FUENLABRADA\n",
    "prec1 = sl_1[\"price\"].median()\n",
    "surf1 = sl_1[\"surface\"].median()\n",
    "room1 = sl_1[\"rooms\"].median()\n",
    "bath1 = sl_1[\"bathrooms\"].median()\n",
    "prec2 = sl_1[\"price\"].var()\n",
    "surf2 = sl_1[\"surface\"].var()\n",
    "room2 = sl_1[\"rooms\"].var()\n",
    "bath2 = sl_1[\"bathrooms\"].var()\n",
    "#LEGANES\n",
    "prec3 = sl_2[\"price\"].median()\n",
    "surf3 = sl_2[\"surface\"].median()\n",
    "room3 = sl_2[\"rooms\"].median()\n",
    "bath3 = sl_2[\"bathrooms\"].median()\n",
    "prec4 = sl_2[\"price\"].var()\n",
    "surf4 = sl_2[\"surface\"].var()\n",
    "room4 = sl_2[\"rooms\"].var()\n",
    "bath4 = sl_2[\"bathrooms\"].var()\n",
    "#GETAFE\n",
    "prec5 = sl_3[\"price\"].median()\n",
    "surf5 = sl_3[\"surface\"].median()\n",
    "room5 = sl_3[\"rooms\"].median()\n",
    "bath5 = sl_3[\"bathrooms\"].median()\n",
    "prec6 = sl_3[\"price\"].var()\n",
    "surf6 = sl_3[\"surface\"].var()\n",
    "room6 = sl_3[\"rooms\"].var()\n",
    "bath6 = sl_3[\"bathrooms\"].var()\n",
    "#ALCORCON\n",
    "prec7 = sl_4[\"price\"].median()\n",
    "surf7 = sl_4[\"surface\"].median()\n",
    "room7 = sl_4[\"rooms\"].median()\n",
    "bath7 = sl_4[\"bathrooms\"].median()\n",
    "prec8 = sl_4[\"price\"].var()\n",
    "surf8 = sl_4[\"surface\"].var()\n",
    "room8 = sl_4[\"rooms\"].var()\n",
    "bath8 = sl_4[\"bathrooms\"].var()\n",
    "print(\"Superficie, Precios, Habitaciones y Baños de FUENLABRADA (MEDIANA)\")\n",
    "print(surf1, prec1, room1, bath1)\n",
    "print(\"Superficie, Precios, Habitaciones y Baños de FUENLABRADA (VARIABLE)\")\n",
    "print(surf2, prec2, room2, bath2)\n",
    "print(\"-------------------------------------------------------------------\")\n",
    "print(\"Superficie, Precios, Habitaciones y Baños de LEGANES (MEDIANA)\")\n",
    "print(surf3, prec3, room3, bath3)\n",
    "print(\"Superficie, Precios, Habitaciones y Baños de LEGANES (VARIABLE)\")\n",
    "print(surf4, prec4, room4, bath4)\n",
    "print(\"-------------------------------------------------------------------\")\n",
    "print(\"Superficie, Precios, Habitaciones y Baños de GETAFE (MEDIANA)\")\n",
    "print(surf5, prec5, room5, bath5)\n",
    "print(\"Superficie, Precios, Habitaciones y Baños de GETAFE (VARIABLE)\")\n",
    "print(surf6, prec6, room6, bath6)\n",
    "print(\"-------------------------------------------------------------------\")\n",
    "print(\"Superficie, Precios, Habitaciones y Baños de ALCORCON (MEDIANA)\")\n",
    "print(surf7, prec7, room7, bath7)\n",
    "print(\"Superficie, Precios, Habitaciones y Baños de ALCORCON (VARIABLE)\")\n",
    "print(surf8, prec8, room8, bath8)\n",
    "\n",
    "\n",
    "\n",
    "\n",
    "\n",
    "\n",
    "\n"
   ]
  },
  {
   "attachments": {},
   "cell_type": "markdown",
   "id": "revolutionary-matrix",
   "metadata": {},
   "source": [
    "#### Exercise 17. What is the most expensive house of each population? You must use the subset obtained in the question 14 (★★☆)\n",
    "\n",
    "Print both the address and the price of the selected house of each population. You can print a DataFrame or a single line for each population"
   ]
  },
  {
   "cell_type": "code",
   "execution_count": 18,
   "id": "fifteen-browse",
   "metadata": {},
   "outputs": [
    {
     "name": "stdout",
     "output_type": "stream",
     "text": [
      "Alcorcón\n",
      "Fuenlabrada:  490000 address:  Calle de Paulo Freire, 5, Fuenlabrada\n",
      "Leganés:  650000 address:  Avenida Reina Sofía, Leganés\n",
      "Getafe:  1050000 address:  Getafe\n",
      "Alarcón:  950000 address:  Alcorcón\n"
     ]
    }
   ],
   "source": [
    "ciudades1 = ds[ds[\"level5\"].isin([\"Fuenlabrada\",\"Leganés\",\"Getafe\",\"Alcorcón\"])]\n",
    "a = ciudades1.loc[ciudades1['level5'] == \"Fuenlabrada\"]\n",
    "max_fuenlabrada=a['price'].max()\n",
    "\n",
    "\n",
    "b = ciudades1.loc[ciudades1['level5'] == \"Leganés\"]\n",
    "max_leganes=b['price'].max()\n",
    "\n",
    "c = ciudades1.loc[ciudades1['level5'] == \"Getafe\"]\n",
    "max_getafe=c['price'].max()\n",
    "\n",
    "d = ciudades1.loc[ciudades1['level5'] == \"Alcorcón\"]\n",
    "max_alcorcon=d['price'].max()\n",
    "\n",
    "idx_max_fuenlabrada = a['price'].idxmax()\n",
    "address_fuenlabrada = a.loc[idx_max_fuenlabrada,'address']\n",
    "\n",
    "idx_max_leganés = b['price'].idxmax()\n",
    "address_leganés = b.loc[idx_max_leganés,'address']\n",
    "\n",
    "idx_max_getafe = c['price'].idxmax()\n",
    "address_getafe = c.loc[idx_max_getafe,'address']\n",
    "\n",
    "idx_max_alarcón = d['price'].idxmax()\n",
    "address_alarcón = d.loc[idx_max_alarcón,'address']\n",
    "print(address_alarcón)\n",
    "\n",
    "print(f'Fuenlabrada: ', max_fuenlabrada, 'address: ', address_fuenlabrada)\n",
    "print(f'Leganés: ', max_leganes, 'address: ', address_leganés)\n",
    "print(f'Getafe: ', max_getafe, 'address: ', address_getafe)\n",
    "print(f'Alarcón: ', max_alcorcon, 'address: ', address_alarcón)\n"
   ]
  },
  {
   "attachments": {},
   "cell_type": "markdown",
   "id": "activated-knight",
   "metadata": {},
   "source": [
    "#### Exercise 18. Normalize the variable of prices for each population and plot the 4 histograms in the same plot (you must use the subset obtained in the question 14) (★★★)\n",
    "\n",
    "For the normalization method you can use the one you consider to, there is not a single correct answer to this question. Print the plot and write in the Markdown cell a brief analysis about the plot\n",
    "\n",
    "Hint: You can help yourself reviewing the multihist demo of Matplotlib"
   ]
  },
  {
   "cell_type": "code",
   "execution_count": 19,
   "id": "civic-meditation",
   "metadata": {},
   "outputs": [
    {
     "name": "stdout",
     "output_type": "stream",
     "text": [
      "1        0.000000\n",
      "3        0.000000\n",
      "161      0.375312\n",
      "214      0.236908\n",
      "219      0.186209\n",
      "           ...   \n",
      "15274    0.122195\n",
      "15275    0.122195\n",
      "15305    0.201995\n",
      "15322    0.057357\n",
      "15325    0.314214\n",
      "Name: price, Length: 233, dtype: float64\n",
      "94       0.440678\n",
      "189      0.000000\n",
      "193      0.135593\n",
      "272      0.335593\n",
      "328      0.559329\n",
      "           ...   \n",
      "15015    0.091525\n",
      "15024    0.338644\n",
      "15238    0.050678\n",
      "15263    0.559329\n",
      "15291    0.371186\n",
      "Name: price, Length: 194, dtype: float64\n",
      "169      0.276190\n",
      "232      0.130857\n",
      "233      0.129048\n",
      "269      0.095143\n",
      "381      0.433333\n",
      "           ...   \n",
      "14999    0.347619\n",
      "15002    0.270944\n",
      "15034    0.425714\n",
      "15087    0.339200\n",
      "15117    0.392857\n",
      "Name: price, Length: 290, dtype: float64\n",
      "85       0.018055\n",
      "109      0.388468\n",
      "765      0.182295\n",
      "816      0.241701\n",
      "827      0.033081\n",
      "           ...   \n",
      "14896    0.050670\n",
      "15144    0.277810\n",
      "15166    0.097263\n",
      "15191    0.263832\n",
      "15223    0.192778\n",
      "Name: price, Length: 190, dtype: float64\n"
     ]
    }
   ],
   "source": [
    "ciudades1 = ds[ds[\"level5\"].isin([\"Fuenlabrada\",\"Leganés\",\"Getafe\",\"Alcorcón\"])]\n",
    "\n",
    "a = ciudades1.loc[ciudades1['level5'] == \"Fuenlabrada\"]\n",
    "a_prices = a['price']\n",
    "normalized_df=(a_prices-a_prices.min())/(a_prices.max()-a_prices.min())\n",
    "print(normalized_df)\n",
    "\n",
    "b = ciudades1.loc[ciudades1['level5'] == \"Leganés\"]\n",
    "b_prices = b['price']\n",
    "normalized_db=(b_prices-b_prices.min())/(b_prices.max()-b_prices.min())\n",
    "print(normalized_db)\n",
    "\n",
    "c = ciudades1.loc[ciudades1['level5'] == \"Getafe\"]\n",
    "c_prices = c['price']\n",
    "normalized_dc=(c_prices-c_prices.min())/(c_prices.max()-c_prices.min())\n",
    "print(normalized_dc)\n",
    "\n",
    "d = ciudades1.loc[ciudades1['level5'] == \"Alcorcón\"]\n",
    "d_prices = d['price']\n",
    "normalized_dd=(d_prices-d_prices.min())/(d_prices.max()-d_prices.min())\n",
    "print(normalized_dd)"
   ]
  },
  {
   "attachments": {},
   "cell_type": "markdown",
   "id": "precise-heavy",
   "metadata": {},
   "source": [
    "**TODO: Markdown**. To write here, double click to this cell and just remove this content and place the text you want to write. Then, execute the cell."
   ]
  },
  {
   "attachments": {},
   "cell_type": "markdown",
   "id": "patent-jonathan",
   "metadata": {},
   "source": [
    "#### Exercise 19. What can you say about the price per square meter (price/m2) between the towns of \"Getafe\" and \"Alcorcón\"? You must use the subset obtained in the question 14 (★★☆)\n",
    "\n",
    "Hint: Create a new column called `pps` (price per square) and then analyse the values"
   ]
  },
  {
   "cell_type": "code",
   "execution_count": 20,
   "id": "initial-liverpool",
   "metadata": {},
   "outputs": [
    {
     "name": "stdout",
     "output_type": "stream",
     "text": [
      "169      1487.179487\n",
      "232      2113.846154\n",
      "233      1632.530120\n",
      "269      1611.290323\n",
      "381      1625.000000\n",
      "            ...     \n",
      "14999    1738.095238\n",
      "15002    2331.893443\n",
      "15034    3262.773723\n",
      "15087    3097.043478\n",
      "15117    2946.428571\n",
      "Name: PPS, Length: 290, dtype: float64\n",
      "85       2140.000000\n",
      "109      2992.957746\n",
      "765      2275.229358\n",
      "816      3114.583333\n",
      "827      1844.615385\n",
      "            ...     \n",
      "14896    2076.923077\n",
      "15144    3548.387097\n",
      "15166    2397.260274\n",
      "15191    3117.647059\n",
      "15223    3023.529412\n",
      "Name: PPS, Length: 190, dtype: float64\n"
     ]
    },
    {
     "name": "stderr",
     "output_type": "stream",
     "text": [
      "/tmp/ipykernel_6039/3131732384.py:5: SettingWithCopyWarning: \n",
      "A value is trying to be set on a copy of a slice from a DataFrame.\n",
      "Try using .loc[row_indexer,col_indexer] = value instead\n",
      "\n",
      "See the caveats in the documentation: https://pandas.pydata.org/pandas-docs/stable/user_guide/indexing.html#returning-a-view-versus-a-copy\n",
      "  ps2[\"PPS\"] = ps2[\"price\"] / ps2[\"surface\"]\n",
      "/tmp/ipykernel_6039/3131732384.py:11: SettingWithCopyWarning: \n",
      "A value is trying to be set on a copy of a slice from a DataFrame.\n",
      "Try using .loc[row_indexer,col_indexer] = value instead\n",
      "\n",
      "See the caveats in the documentation: https://pandas.pydata.org/pandas-docs/stable/user_guide/indexing.html#returning-a-view-versus-a-copy\n",
      "  ps3[\"PPS\"] = ps3[\"price\"] / ps3[\"surface\"]\n"
     ]
    }
   ],
   "source": [
    "ciudades1 = ds[ds[\"level5\"].isin([\"Fuenlabrada\",\"Leganés\",\"Getafe\",\"Alcorcón\"])]\n",
    "\n",
    "\n",
    "ps2 = ciudades1[ciudades1[\"level5\"].isin([\"Getafe\"])]\n",
    "ps2[\"PPS\"] = ps2[\"price\"] / ps2[\"surface\"]\n",
    "a = ps2.get('PPS')\n",
    "print(a)\n",
    "\n",
    "\n",
    "ps3 = ciudades1[ciudades1[\"level5\"].isin([\"Alcorcón\"])]\n",
    "ps3[\"PPS\"] = ps3[\"price\"] / ps3[\"surface\"]\n",
    "b = ps3.get('PPS')\n",
    "print(b)"
   ]
  },
  {
   "attachments": {},
   "cell_type": "markdown",
   "id": "enhanced-moscow",
   "metadata": {},
   "source": [
    "#### Exercise 20. Make the same plot for 4 different populations (level5 column) and rearrange them on the same graph? You must use the subset obtained in the question 14 (★★☆) \n",
    "Hint: make a scatter plot of each population using subplots."
   ]
  },
  {
   "cell_type": "code",
   "execution_count": null,
   "id": "accepting-airfare",
   "metadata": {},
   "outputs": [
    {
     "name": "stdout",
     "output_type": "stream",
     "text": [
      "{1: '40,28674', 3: '40,2853785786438', 85: '40,35059', 94: '40,31933', 109: '40,3313411', 161: '40,2744807718156', 169: '40,31111', 189: '40,356919', 193: '40,3274', 214: '40,2906814213562', 219: '40,3152529585', 230: '40,2921796', 232: '40,3060558', 233: '40,3035689', 236: '40,29224', 269: '40,3068987', 272: '40,3142811864376', 326: '40,31381', 328: '40,32124', 347: '40,35524', 381: '40,28327', 386: '40,29742', 424: '40,3034957864376', 464: '40,30779', 465: '40,33686', 466: '40,30184', 467: '40,30091', 488: '40,33252', 494: '40,30635', 510: '40,3220051387', 512: '40,3153084', 515: '40,3133562', 544: '40,3012757864376', 596: '40,3218', 635: '40,27782', 658: '40,3164257864376', 716: '40,3262', 718: '40,3216444213562', 735: '40,30353', 754: '40,3117642135624', 755: '40,31313', 757: '40,3099157864376', 765: '40,3526', 768: '40,2919082135624', 770: '40,31381', 776: '40,3342649', 778: '40,3155378864376', 804: '40,28869', 816: '40,3546326213562', 827: '40,34949', 845: '40,34608', 847: '40,2889244', 850: '40,3341242135624', 856: '40,3446968786438', 860: '40,33238', 862: '40,2837261', 863: '40,2823585', 864: '40,3324438', 867: '40,2830905213562', 868: '40,34942', 889: '40,3525293490715', 898: '40,30005', 899: '40,3014614213562', 944: '40,296075', 945: '40,2772542', 948: '40,3453965786438', 974: '40,296075', 975: '40,2772542', 978: '40,3453965786438', 1003: '40,3152732', 1004: '40,2915427786438', 1155: '40,33829', 1178: '40,3061746135624', 1180: '40,34179', 1195: '40,3541132', 1225: '40,32124', 1436: '40,3159134', 1438: '40,3494952', 1439: '40,344788', 1459: '40,28293', 1473: '40,30206', 1482: '40,34368', 1502: '40,3314905686438', 1519: '40,29338', 1558: '40,31667', 1586: '40,3205313786438', 1591: '40,3470842135624', 1609: '40,3205154213562', 1615: '40,2871968', 1620: '40,3442916870117', 1645: '40,30754', 1670: '40,3119888305664', 1676: '40,343175', 1677: '40,32947', 1689: '40,3300714213562', 1697: '40,343375', 1698: '40,30206', 1719: '40,3300714213562', 1727: '40,343375', 1728: '40,30206', 1758: '40,3175029', 1802: '40,31072', 1833: '40,31072', 1840: '0', 1847: '40,343175', 1896: '40,3489999', 1902: '40,3321035', 1903: '40,34368', 1909: '40,3467875', 1932: '40,3298114213562', 2009: '40,3300714213562', 2072: '40,32635', 2109: '40,3207914213562', 2116: '40,33163199', 2125: '40,32635', 2184: '40,34438', 2217: '40,31667', 2228: '40,30566', 2272: '40,34855', 2293: '40,2890264864376', 2361: '40,309815', 2362: '40,30785', 2363: '40,308054', 2391: '40,309815', 2392: '40,30785', 2393: '40,308054', 2415: '40,347495990297', 2527: '40,345881470732', 2549: '40,334217', 2565: '40,3074935', 2571: '40,3128454', 2588: '0', 2591: '0', 2597: '40,2833037', 2608: '40,288330005557', 2632: '40,34362', 2635: '40,288095391725', 2637: '40,28651', 2670: '40,2877', 2675: '40,34559', 2694: '40,29987', 2711: '40,27609356', 2726: '40,2945890127654', 2727: '40,2945890127654', 2729: '40,28181', 2802: '40,29287', 2824: '40,33655', 2881: '40,302820239187', 2917: '40,33621', 2926: '40,2758248', 2930: '40,309481', 2931: '40,309481', 2951: '40,32953', 2973: '40,27862', 3027: '40,2888528', 3029: '40,2971995999033', 3032: '40,2929608592128', 3048: '40,2925435170825', 3049: '40,2892496970814', 3050: '40,2925973931475', 3052: '40,2907380864376', 3054: '40,27512', 3056: '40,2862494', 3057: '40,2738157864376', 3113: '40,30871', 3132: '40,3151', 3140: '40,33422', 3141: '40,32873', 3150: '40,31093', 3159: '40,30011', 3242: '40,2919796', 3244: '40,2804758', 3302: '40,33603', 3341: '40,3469313664376', 3342: '40,3470069724376', 3343: '40,34444980446', 3344: '40,34307648046', 3346: '40,3485743497314', 3384: '40,2897', 3389: '40,2752542', 3404: '40,3204492', 3408: '40,3388', 3431: '40,3360541', 3440: '40,29052', 3441: '40,288113', 3442: '40,286028', 3444: '40,33757', 3446: '40,3447687130376', 3465: '40,3392951184', 3469: '40,35064', 3479: '40,3375861704', 3482: '40,3464199', 3483: '40,3430768', 3484: '40,35131', 3567: '40,28404', 3638: '40,34454', 3683: '40,34645', 3687: '40,30958', 3723: '40,31622', 3728: '40,31622', 3729: '40,31622', 3730: '40,31622', 3732: '40,31622', 3733: '40,31622', 3734: '40,31622', 3735: '40,31622', 3737: '40,31622', 3739: '40,31622', 3741: '40,31622', 3745: '40,31622', 3747: '40,31622', 3748: '40,31622', 3750: '40,31622', 3753: '40,31622', 3757: '40,31622', 3759: '40,31622', 3762: '40,31622', 3763: '40,31622', 3764: '40,31622', 3765: '40,31622', 3767: '40,31622', 3768: '40,31622', 3769: '40,31622', 3770: '40,31622', 3774: '40,31622', 3777: '40,31622', 3778: '40,31622', 3928: '40,34879', 3932: '40,35331', 3959: '40,30754', 3989: '40,30754', 4019: '40,30754', 4027: '40,2808183', 4060: '40,32793', 4072: '40,334721', 4073: '40,34913', 4110: '40,333254', 4168: '40,34438', 4212: '40,34368', 4239: '40,32635', 4244: '40,29338', 4257: '40,30546', 4260: '40,34775', 4281: '40,33143199', 4342: '40,30206', 4362: '40,30754', 4373: '40,34368', 4374: '40,3120728', 4469: '40,32049', 4540: '40,31072', 4556: '40,31667', 4580: '40,31667', 4643: '40,28344', 4648: '40,2942943', 4660: '40,29053', 4670: '40,31295', 4674: '40,28615', 4679: '40,27927', 4680: '40,2842', 4686: '40,30754', 4694: '40,30299', 4700: '40,28867', 4704: '40,2842', 4714: '40,29131', 4723: '40,32115', 4753: '40,2876117', 4756: '40,29192', 4757: '40,28029', 4823: '40,34749', 4853: '40,3362852', 4870: '40,34257', 4875: '40,3513', 4876: '40,33854', 4893: '40,3478556971546', 4900: '40,3076893328', 4901: '40,3179637337', 4932: '40,3322342135624', 4933: '40,32131', 4936: '40,3299051', 4937: '40,33727', 4938: '40,3238357864376', 4939: '40,32246', 4940: '40,33475', 4941: '40,35512', 4942: '40,32359', 4945: '40,31468', 4947: '40,3164', 4948: '40,30201', 4949: '40,32188', 4960: '40,33457', 5009: '40,33423', 5010: '40,33238', 5011: '40,33138', 5012: '40,33423', 5018: '40,33251', 5027: '40,3432624', 5036: '40,30733', 5083: '40,34323', 5085: '40,35541', 5116: '40,33731', 5122: '40,30809', 5188: '40,35679', 5191: '40,35679', 5252: '40,31376', 5253: '40,35022', 5254: '40,32739', 5255: '40,3291', 5274: '40,2836', 5312: '40,2804640280991', 5313: '40,2802348570363', 5315: '40,283340877313', 5316: '40,2835163436148', 5317: '40,2852437046111', 5320: '40,2933624864376', 5336: '40,27908', 5346: '40,28479', 5503: '40,3116', 5517: '40,29269', 5522: '40,3459851', 5529: '40,3226783', 5566: '40,3122542135624', 5579: '40,34484', 5580: '40,34851', 5582: '40,34879', 5583: '40,34749', 5585: '40,3535169', 5586: '40,34841', 5615: '40,3139235', 5617: '40,31195', 5618: '40,3071', 5619: '40,31594', 5620: '40,34288', 5669: '40,34218', 5698: '40,3498685786438', 5703: '40,354', 5756: '40,3326157', 5757: '40,3079548245211', 5760: '40,3234', 5762: '40,3230964', 5767: '40,32828', 5768: '40,34348', 5770: '40,33244', 5771: '40,35314', 5772: '40,358816', 5781: '40,33727', 5783: '40,33745', 5785: '40,3309657864376', 5787: '40,3136954', 5789: '40,33595', 5795: '40,27748', 5807: '40,3148063472576', 5809: '40,32489', 5851: '40,3358557864376', 5924: '40,30011', 5931: '40,30234', 5935: '40,28449', 5976: '40,3318', 6073: '40,3366733113739', 6078: '40,29849', 6102: '40,3364895', 6104: '40,29387', 6164: '40,29338', 6194: '40,29338', 6215: '40,33011', 6217: '40,343363079834', 6227: '40,30206', 6233: '40,3466873', 6243: '40,32635', 6245: '40,33011', 6247: '40,343363079834', 6257: '40,30206', 6263: '40,3466873', 6273: '40,32635', 6291: '40,29931', 6319: '40,29202', 6326: '40,35022', 6327: '40,34797', 6335: '40,2808882', 6343: '40,31667', 6412: '40,3161134', 6429: '40,34438', 6439: '40,30754', 6468: '40,34737', 6469: '40,3354997', 6473: '40,30186', 6482: '40,31072', 6519: '40,3193033445857', 6527: '40,30546', 6551: '40,32635', 6552: '40,34368', 6565: '40,3161134', 6593: '40,341175', 6658: '40,31004', 6675: '40,3461', 6678: '40,34368', 6726: '40,33727', 6764: '40,2756121', 6767: '40,2887913864376', 6768: '40,2887738', 6769: '40,2896797', 6770: '40,287018416', 6771: '40,28775', 6813: '40,2800385786438', 6846: '40,32489', 6847: '40,3326157', 6848: '40,33527', 6868: '40,32321', 6882: '40,32404566', 6885: '40,31143337', 6928: '40,3329', 6950: '40,3323', 6959: '40,3578021841515', 6980: '40,3323', 6989: '40,3578021841515', 7000: '40,2834965', 7002: '40,2819117', 7008: '40,335', 7015: '40,31381', 7040: '40,32635', 7062: '40,32635', 7092: '40,32635', 7131: '40,31111', 7141: '40,32446', 7161: '40,31111', 7171: '40,32446', 7175: '40,33329', 7186: '40,31296', 7194: '40,3161134', 7202: '40,34368', 7210: '40,31667', 7211: '40,30546', 7227: '40,30754', 7235: '40,3345834', 7242: '40,2836586', 7314: '40,31072', 7322: '40,34438', 7329: '40,34368', 7339: '40,32936015', 7340: '40,29338', 7348: '40,32275', 7349: '40,343452', 7356: '40,30754', 7371: '40,30206', 7408: '40,31667', 7427: '40,27726', 7477: '40,2933296', 7496: '40,28186', 7514: '40,34396', 7543: '40,307803', 7544: '40,308843', 7680: '40,30607', 7682: '40,29867', 7693: '40,313970835286', 7773: '40,2859916687012', 7810: '40,3519318', 7826: '40,3086311', 7938: '40,356133', 7946: '40,2889421', 7983: '40,32635', 7984: '40,341175', 7993: '40,29338', 7996: '40,3225429', 8001: '40,34438', 8023: '40,29338', 8026: '40,3225429', 8031: '40,34438', 8053: '40,29338', 8056: '40,3225429', 8061: '40,34438', 8076: '40,28062', 8100: '40,31043', 8127: '40,32635', 8145: '40,30206', 8176: '40,3335821864376', 8192: '40,30754', 8241: '40,3465199864376', 8245: '40,283133', 8248: '40,34368', 8255: '40,30206', 8256: '40,30754', 8266: '40,31667', 8294: '40,31667', 8311: '40,31072', 8313: '40,3344698', 8344: '40,34028', 8365: '40,29212', 8372: '40,3337657864376', 8373: '40,3337657864376', 8383: '40,2866', 8384: '40,30973', 8386: '40,28532', 8391: '40,34536', 8393: '40,32303', 8406: '40,28494845', 8415: '40,29905', 8451: '40,28805', 8452: '40,3186747864376', 8481: '40,28805', 8482: '40,3186747864376', 8509: '40,333266378437', 8546: '40,33829', 8557: '40,29095', 8603: '40,281955297', 8637: '40,29305', 8648: '40,27635', 8659: '40,3506246', 8663: '40,3599654864376', 8773: '40,2853', 8781: '40,35541', 8811: '40,2744157864376', 8812: '40,289733', 8813: '40,2889722135624', 8814: '40,2913667864376', 8816: '40,286478', 8817: '40,291526', 8825: '40,30485', 8842: '40,32429', 8843: '40,2990857864376', 8863: '40,30049', 8869: '40,28382', 8874: '40,2820357864376', 8875: '40,27817', 8876: '40,28069', 8899: '40,34888169', 8901: '40,34120434', 8902: '40,345947283775', 8905: '40,3143312', 8906: '40,3054397', 8907: '40,310909', 8908: '40,3103782', 8928: '40,3432', 8930: '40,34269', 8932: '40,34695', 8933: '40,34304', 8941: '0', 8942: '40,2985657864376', 8944: '40,2756414', 8982: '40,29321', 9107: '40,31896', 9137: '40,31321', 9138: '40,31368', 9174: '40,2814139', 9176: '40,3509298371', 9177: '40,3430341495', 9192: '40,28364', 9193: '40,350753', 9197: '40,34102', 9217: '40,2829107', 9247: '40,31896', 9277: '40,31321', 9278: '40,31368', 9332: '40,31896', 9362: '40,31321', 9363: '40,31368', 9399: '40,2814139', 9401: '40,3509298371', 9402: '40,3430341495', 9417: '40,28364', 9418: '40,350753', 9422: '40,34102', 9442: '40,2829107', 9540: '40,3284118326652', 9590: '40,3284118326652', 9627: '40,31259', 9644: '40,32635', 9661: '40,34368', 9665: '40,34368', 9677: '40,3427357864376', 9686: '40,32635', 9691: '40,31072', 9696: '40,31572', 9722: '40,33609706', 9742: '40,32936015', 9747: '40,34438', 9757: '40,31667', 9775: '40,30546', 9781: '40,31667', 9794: '40,30206', 9824: '40,30186', 9861: '40,29338', 9863: '40,2889244', 9889: '40,32455', 9987: '40,336755744937', 9994: '40,31719', 10067: '40,34639', 10086: '40,282', 10106: '40,28871', 10116: '40,282', 10136: '40,28871', 10197: '40,29338', 10217: '40,3551815490723', 10219: '40,30206', 10223: '40,31667', 10225: '40,31667', 10239: '40,34438', 10246: '40,29217', 10261: '40,32635', 10270: '40,32635', 10286: '40,3079', 10308: '40,30546', 10315: '40,30186', 10324: '40,299029', 10371: '40,2829', 10412: '40,3423636291504', 10436: '40,28866', 10443: '40,33746', 10455: '0', 10481: '40,278420269286', 10484: '40,279938262758', 10527: '40,3139', 10580: '40,34768', 10582: '40,35499', 10583: '40,35427', 10584: '40,34327', 10587: '40,2824903', 10669: '40,3448916', 10676: '40,3271904', 10699: '40,35109', 10701: '40,35042', 10719: '40,3144', 10748: '40,30186', 10751: '40,34438', 10761: '40,31667', 10778: '40,30186', 10781: '40,34438', 10791: '40,31667', 10808: '40,30186', 10811: '40,34438', 10821: '40,31667', 10857: '40,32546', 10865: '40,341978', 10885: '40,2970296', 10886: '40,2825819', 10887: '40,28698', 10888: '40,283219', 10890: '40,2923318', 10891: '40,2820833864376', 10892: '40,2832782', 10894: '40,2764598939', 10908: '40,31151', 10913: '40,31033', 10960: '40,31767', 10963: '40,300709', 10964: '40,300251', 10971: '40,35634535', 10988: '40,3438274', 10990: '40,35741', 11005: '40,32343', 11082: '40,2877367', 11096: '40,29011', 11097: '40,29335', 11098: '40,29337', 11103: '40,290905192578', 11104: '40,286776166148', 11131: '40,28893', 11137: '40,3318', 11142: '40,33595', 11144: '40,33527', 11146: '40,31917', 11159: '40,33562', 11211: '40,3457876', 11266: '40,3187663', 11307: '40,3280798', 11316: '40,3280798', 11435: '40,3148063472576', 11445: '40,32828', 11474: '40,30606', 11507: '40,33441', 11510: '40,2891349826874', 11515: '40,2833081169234', 11517: '40,339', 11521: '40,2896842', 11561: '40,28286', 11565: '40,33726', 11604: '40,2764028', 11622: '40,317586', 11625: '40,328601', 11627: '0', 11629: '40,320355', 11630: '40,319574', 11636: '40,319444', 11637: '40,315913', 11639: '40,29072', 11640: '40,34252', 11653: '40,33008', 11676: '40,33218', 11677: '40,33671', 11679: '40,3285125', 11683: '40,28624', 11688: '40,3574064', 11729: '40,3028614213562', 11749: '40,343705210773', 11750: '40,3425103', 11804: '40,34783', 11813: '40,34645', 11833: '40,3062504', 11877: '40,2926049', 11967: '40,3300242041513', 11981: '40,35069', 12040: '40,34795', 12054: '40,282445', 12093: '40,31229', 12110: '40,3201063', 12132: '40,35541', 12153: '40,30186', 12177: '40,34449', 12190: '40,3376', 12204: '40,3218194', 12260: '40,29405', 12268: '40,33806', 12273: '40,287', 12274: '40,33385', 12279: '40,31845', 12285: '40,3080504', 12305: '40,31667', 12308: '40,30027', 12323: '40,31667', 12331: '40,30546', 12332: '40,2840309143066', 12334: '40,34739', 12341: '40,31498', 12356: '40,30186', 12359: '40,34438', 12412: '40,331329', 12519: '40,3104154', 12521: '40,3121231', 12540: '40,2887913864376', 12553: '40,3310724737636', 12555: '40,3086963', 12621: '40,335', 12660: '40,35145', 12668: '40,32458', 12672: '40,32672', 12673: '40,28676', 12684: '40,2896842', 12693: '40,33898', 12694: '40,33443', 12706: '40,29931', 12707: '40,2982677986069', 12752: '40,35478', 12755: '40,29011', 12758: '40,3539345', 12767: '40,28684', 12787: '40,2941899', 12791: '40,2922401', 12825: '40,34461', 12835: '40,2928257', 12839: '40,35466', 12859: '40,32739', 12869: '40,3127899', 12908: '40,30855', 12946: '40,27927', 12962: '40,28529', 12963: '40,33727', 12969: '40,3241157864376', 12992: '40,3278234', 13007: '40,3335821864376', 13024: '40,28286', 13025: '40,3434837', 13026: '40,28265', 13049: '40,3170797', 13053: '40,2807', 13058: '40,34702', 13059: '40,34009', 13063: '40,35306', 13064: '40,34639', 13065: '40,34576', 13066: '40,29058', 13093: '40,28687', 13094: '40,2875', 13115: '40,3424', 13116: '40,30023', 13117: '40,28709', 13118: '40,29274', 13120: '40,30428', 13121: '40,2934187', 13122: '40,28162', 13132: '40,2841067', 13179: '40,29674', 13180: '40,28037', 13201: '40,3303391', 13202: '40,32901', 13211: '40,29371', 13242: '40,29387', 13275: '40,3359653', 13310: '40,3234', 13317: '40,30507', 13451: '40,34538', 13467: '40,3402489', 13481: '40,2851691', 13527: '40,3376', 13535: '40,34314', 13540: '40,34314', 13543: '40,34603', 13544: '40,33425', 13550: '40,323754187848', 13552: '40,34067', 13590: '40,3313044150488', 13631: '40,3319065585014', 13640: '40,33158', 13664: '40,32134', 13702: '40,33189', 13716: '40,33595', 13809: '40,31667', 13813: '40,3543087740551', 13856: '40,32176', 13858: '40,3308835864376', 13859: '40,3101', 13863: '40,30333', 13865: '40,3308835864376', 13866: '40,3101', 13870: '40,30333', 13888: '40,31667', 13891: '40,32831978', 13919: '40,30186', 13938: '40,33163', 13940: '40,32811', 13950: '40,277956', 13951: '40,30546', 13953: '40,3194273', 13957: '40,30186', 13963: '40,310835', 13968: '40,310835', 14034: '40,29', 14040: '40,31407', 14123: '40,3208104', 14137: '40,32845', 14141: '40,33643', 14165: '40,30569', 14168: '40,32845', 14172: '40,33643', 14232: '40,31569687', 14234: '40,34519', 14239: '40,3010733', 14246: '40,33546', 14248: '40,3473615287', 14268: '40,3416428', 14304: '40,28245', 14307: '40,28728', 14315: '40,2946', 14318: '40,2965', 14323: '40,2913667864376', 14343: '40,27563', 14344: '40,29019', 14391: '40,3139', 14421: '40,3139', 14446: '40,350214341', 14495: '40,28486', 14523: '40,30262', 14525: '40,33595', 14528: '40,32746', 14529: '40,35472', 14530: '40,35223', 14531: '40,34635', 14554: '0', 14557: '0', 14562: '0', 14563: '0', 14566: '0', 14576: '40,2820453965836', 14603: '40,2865158', 14620: '40,28315', 14623: '40,2830697', 14625: '40,33383', 14637: '40,28084', 14639: '40,3337657864376', 14640: '40,3337657864376', 14641: '40,33746', 14657: '40,33132', 14669: '40,31361', 14671: '40,28682', 14681: '40,28661', 14691: '40,3210413', 14739: '40,33551964', 14769: '40,3366', 14825: '40,33177', 14891: '40,31672', 14893: '40,34372', 14896: '40,34484', 14908: '40,2831823', 14915: '40,28818', 14916: '40,33422', 14920: '40,2843', 14928: '40,28086', 14934: '40,2744744', 14944: '40,31428', 14999: '40,30546', 15002: '40,30206', 15015: '40,3571804504395', 15017: '40,2748257864376', 15024: '40,32314', 15034: '40,31667', 15050: '40,295285090629', 15087: '40,30186', 15117: '40,31667', 15144: '40,35382', 15166: '40,35541', 15191: '40,3522', 15223: '40,344393', 15238: '40,3337657864376', 15263: '40,32124', 15274: '40,31381', 15275: '40,31381', 15291: '40,3259051', 15305: '40,2882193', 15322: '40,28282', 15325: '40,28062'}\n"
     ]
    }
   ],
   "source": [
    "ciudades1 = ds[ds[\"level5\"].isin([\"Fuenlabrada\",\"Leganés\",\"Getafe\",\"Alcorcón\"])]\n",
    "\n",
    "fig, axs = plt.subplots(2, 2)\n",
    "\n",
    "axs[0, 0].scatter(x, y, s=area, c=colors, alpha=0.5)\n",
    "axs[0, 0].set_title('Scatter plot 1')\n",
    "\n",
    "axs[0, 1].scatter(x, y, s=area, c=colors, alpha=0.5)\n",
    "axs[0, 1].set_title('Scatter plot 2')\n",
    "\n",
    "axs[1, 0].scatter(x, y, s=area, c=colors, alpha=0.5)\n",
    "axs[1, 0].set_title('Scatter plot 3')\n",
    "\n",
    "axs[1, 1].scatter(x, y, s=area, c=colors, alpha=0.5)\n",
    "axs[1, 1].set_title('Scatter plot 4')"
   ]
  },
  {
   "attachments": {},
   "cell_type": "markdown",
   "id": "blocked-effects",
   "metadata": {},
   "source": [
    "#### Exercise 21. Make a plot of the coordinates (latitude and longitude columns) of the south belt of Madrid by color of each population (you must use the subset obtained in the question 14) (★★★★)\n",
    "\n",
    "Execute the following cell and then start coding in the next one. You must implement a simple code that transform the coordinates columns in a Python dictionary (add more information if needed) and then add it to the map"
   ]
  },
  {
   "cell_type": "code",
   "execution_count": null,
   "id": "headed-privacy",
   "metadata": {},
   "outputs": [],
   "source": []
  },
  {
   "cell_type": "code",
   "execution_count": 21,
   "id": "present-mistress",
   "metadata": {},
   "outputs": [
    {
     "name": "stderr",
     "output_type": "stream",
     "text": [
      "/tmp/ipykernel_6039/3588391295.py:3: SettingWithCopyWarning: \n",
      "A value is trying to be set on a copy of a slice from a DataFrame.\n",
      "Try using .loc[row_indexer,col_indexer] = value instead\n",
      "\n",
      "See the caveats in the documentation: https://pandas.pydata.org/pandas-docs/stable/user_guide/indexing.html#returning-a-view-versus-a-copy\n",
      "  ciudades1['latitude'] = ciudades1['latitude'].str.replace(',', '.').astype(float)\n",
      "/tmp/ipykernel_6039/3588391295.py:4: SettingWithCopyWarning: \n",
      "A value is trying to be set on a copy of a slice from a DataFrame.\n",
      "Try using .loc[row_indexer,col_indexer] = value instead\n",
      "\n",
      "See the caveats in the documentation: https://pandas.pydata.org/pandas-docs/stable/user_guide/indexing.html#returning-a-view-versus-a-copy\n",
      "  ciudades1['longitude'] = ciudades1['longitude'].str.replace(',', '.').astype(float)\n"
     ]
    },
    {
     "data": {
      "application/vnd.jupyter.widget-view+json": {
       "model_id": "cb6c1f302df9456c8a3cc3050886c9fb",
       "version_major": 2,
       "version_minor": 0
      },
      "text/plain": [
       "Map(center=[39.827854447237655, -3.732202273747551], controls=(ZoomControl(options=['position', 'zoom_in_text'…"
      ]
     },
     "execution_count": 21,
     "metadata": {},
     "output_type": "execute_result"
    }
   ],
   "source": [
    "from ipyleaflet import Map, basemaps, Marker\n",
    "# Convert latitude and longitude columns to numeric explicitly\n",
    "ciudades1['latitude'] = ciudades1['latitude'].str.replace(',', '.').astype(float)\n",
    "ciudades1['longitude'] = ciudades1['longitude'].str.replace(',', '.').astype(float)\n",
    "# Create a map centered around (60 degrees latitude et -2.2 degrees longitude)\n",
    "# Latitude, longitude\n",
    "map = Map(center=(60, -2.2), zoom=2, min_zoom=1, max_zoom=20, basemap=basemaps.Stamen.Terrain)\n",
    "# Create a DataFrame with the necessary columns\n",
    "data = {\n",
    "    'latitude': ciudades1['latitude'],\n",
    "    'longitude': ciudades1['longitude'],\n",
    "    'place': ciudades1['level5']\n",
    "}\n",
    "df = pd.DataFrame(data)\n",
    "# Create a map centered around the average coordinates\n",
    "map_center = (df['latitude'].mean(), df['longitude'].mean())\n",
    "m = Map(center=map_center, zoom=10, basemap=basemaps.Stamen.Terrain)\n",
    "# Convert the DataFrame to a list of dictionaries\n",
    "locations = df.to_dict(orient='records')\n",
    "# Iterate through the list of dictionaries and add markers to the map\n",
    "for location in locations:\n",
    "    marker = Marker(location=(location['latitude'], location['longitude']), title=location['place'])\n",
    "    m.add_layer(marker)\n",
    "# Display the map\n",
    "m"
   ]
  },
  {
   "cell_type": "code",
   "execution_count": null,
   "id": "2c2b7c7b",
   "metadata": {},
   "outputs": [],
   "source": [
    "from ipyleaflet import Map, basemaps, Marker\n",
    "# Convert latitude and longitude columns to numeric explicitly\n",
    "ciudades1['latitude'] = ciudades1['latitude'].str.replace(',', '.').astype(float)\n",
    "ciudades1['longitude'] = ciudades1['longitude'].str.replace(',', '.').astype(float)"
   ]
  },
  {
   "cell_type": "code",
   "execution_count": null,
   "id": "0aa5b73d",
   "metadata": {},
   "outputs": [],
   "source": [
    "ciudades1.dtypes"
   ]
  }
 ],
 "metadata": {
  "kernelspec": {
   "display_name": "Python 3",
   "language": "python",
   "name": "python3"
  },
  "language_info": {
   "codemirror_mode": {
    "name": "ipython",
    "version": 3
   },
   "file_extension": ".py",
   "mimetype": "text/x-python",
   "name": "python",
   "nbconvert_exporter": "python",
   "pygments_lexer": "ipython3",
   "version": "3.11.4"
  }
 },
 "nbformat": 4,
 "nbformat_minor": 5
}
