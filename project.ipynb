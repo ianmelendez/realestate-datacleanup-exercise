{
 "cells": [
  {
   "attachments": {},
   "cell_type": "markdown",
   "id": "innocent-university",
   "metadata": {},
   "source": [
    "# Real Estate Clean up\n",
    "\n",
    "This is a real dataset and it was downloaded using web scraping techniques. The data contains registers from fotocasa which is one of the most popular websites of real estate in Spain. Please, do not do this (web scraping) unless it is for academic purposes.\n",
    "\n",
    "The dataset was downloaded a few years ago by Henry Navarro and In no case were economic returns obtained from it.\n",
    "\n",
    "It contains thousands of data from real houses published on the web www.fotocasa.com. Your goal is to extract as much information as possible with the knowledge you have so far about data science, for example what is the most expensive house in the entire dataset?\n",
    "\n",
    "Let's start with precisely that question... Good luck!"
   ]
  },
  {
   "attachments": {},
   "cell_type": "markdown",
   "id": "multiple-glass",
   "metadata": {},
   "source": [
    "#### Exercise 00. Read the dataset assets/real_estate.csv and try to visualize the table (★☆☆)"
   ]
  },
  {
   "cell_type": "code",
   "execution_count": 1,
   "id": "frank-heath",
   "metadata": {},
   "outputs": [
    {
     "data": {
      "text/html": [
       "<div>\n",
       "<style scoped>\n",
       "    .dataframe tbody tr th:only-of-type {\n",
       "        vertical-align: middle;\n",
       "    }\n",
       "\n",
       "    .dataframe tbody tr th {\n",
       "        vertical-align: top;\n",
       "    }\n",
       "\n",
       "    .dataframe thead th {\n",
       "        text-align: right;\n",
       "    }\n",
       "</style>\n",
       "<table border=\"1\" class=\"dataframe\">\n",
       "  <thead>\n",
       "    <tr style=\"text-align: right;\">\n",
       "      <th></th>\n",
       "      <th>Unnamed: 0</th>\n",
       "      <th>id_realEstates</th>\n",
       "      <th>isNew</th>\n",
       "      <th>realEstate_name</th>\n",
       "      <th>phone_realEstate</th>\n",
       "      <th>url_inmueble</th>\n",
       "      <th>rooms</th>\n",
       "      <th>bathrooms</th>\n",
       "      <th>surface</th>\n",
       "      <th>price</th>\n",
       "      <th>...</th>\n",
       "      <th>level4Id</th>\n",
       "      <th>level5Id</th>\n",
       "      <th>level6Id</th>\n",
       "      <th>level7Id</th>\n",
       "      <th>level8Id</th>\n",
       "      <th>accuracy</th>\n",
       "      <th>latitude</th>\n",
       "      <th>longitude</th>\n",
       "      <th>zipCode</th>\n",
       "      <th>customZone</th>\n",
       "    </tr>\n",
       "  </thead>\n",
       "  <tbody>\n",
       "    <tr>\n",
       "      <th>0</th>\n",
       "      <td>1</td>\n",
       "      <td>153771986</td>\n",
       "      <td>False</td>\n",
       "      <td>ferrari 57 inmobiliaria</td>\n",
       "      <td>912177526.0</td>\n",
       "      <td>https://www.fotocasa.es/es/comprar/vivienda/ma...</td>\n",
       "      <td>3.0</td>\n",
       "      <td>2.0</td>\n",
       "      <td>103.0</td>\n",
       "      <td>195000</td>\n",
       "      <td>...</td>\n",
       "      <td>0</td>\n",
       "      <td>0</td>\n",
       "      <td>0</td>\n",
       "      <td>0</td>\n",
       "      <td>0</td>\n",
       "      <td>0</td>\n",
       "      <td>40,2948276786438</td>\n",
       "      <td>-3,44402412135624</td>\n",
       "      <td>NaN</td>\n",
       "      <td>NaN</td>\n",
       "    </tr>\n",
       "    <tr>\n",
       "      <th>1</th>\n",
       "      <td>2</td>\n",
       "      <td>153867863</td>\n",
       "      <td>False</td>\n",
       "      <td>tecnocasa fuenlabrada ferrocarril</td>\n",
       "      <td>916358736.0</td>\n",
       "      <td>https://www.fotocasa.es/es/comprar/vivienda/ma...</td>\n",
       "      <td>3.0</td>\n",
       "      <td>1.0</td>\n",
       "      <td>NaN</td>\n",
       "      <td>89000</td>\n",
       "      <td>...</td>\n",
       "      <td>0</td>\n",
       "      <td>0</td>\n",
       "      <td>0</td>\n",
       "      <td>0</td>\n",
       "      <td>0</td>\n",
       "      <td>1</td>\n",
       "      <td>40,28674</td>\n",
       "      <td>-3,79351</td>\n",
       "      <td>NaN</td>\n",
       "      <td>NaN</td>\n",
       "    </tr>\n",
       "    <tr>\n",
       "      <th>2</th>\n",
       "      <td>3</td>\n",
       "      <td>153430440</td>\n",
       "      <td>False</td>\n",
       "      <td>look find boadilla</td>\n",
       "      <td>916350408.0</td>\n",
       "      <td>https://www.fotocasa.es/es/comprar/vivienda/ma...</td>\n",
       "      <td>2.0</td>\n",
       "      <td>2.0</td>\n",
       "      <td>99.0</td>\n",
       "      <td>390000</td>\n",
       "      <td>...</td>\n",
       "      <td>0</td>\n",
       "      <td>0</td>\n",
       "      <td>0</td>\n",
       "      <td>0</td>\n",
       "      <td>0</td>\n",
       "      <td>0</td>\n",
       "      <td>40,4115646786438</td>\n",
       "      <td>-3,90662252135624</td>\n",
       "      <td>NaN</td>\n",
       "      <td>NaN</td>\n",
       "    </tr>\n",
       "    <tr>\n",
       "      <th>3</th>\n",
       "      <td>4</td>\n",
       "      <td>152776331</td>\n",
       "      <td>False</td>\n",
       "      <td>tecnocasa fuenlabrada ferrocarril</td>\n",
       "      <td>916358736.0</td>\n",
       "      <td>https://www.fotocasa.es/es/comprar/vivienda/ma...</td>\n",
       "      <td>3.0</td>\n",
       "      <td>1.0</td>\n",
       "      <td>86.0</td>\n",
       "      <td>89000</td>\n",
       "      <td>...</td>\n",
       "      <td>0</td>\n",
       "      <td>0</td>\n",
       "      <td>0</td>\n",
       "      <td>0</td>\n",
       "      <td>0</td>\n",
       "      <td>0</td>\n",
       "      <td>40,2853785786438</td>\n",
       "      <td>-3,79508142135624</td>\n",
       "      <td>NaN</td>\n",
       "      <td>NaN</td>\n",
       "    </tr>\n",
       "    <tr>\n",
       "      <th>4</th>\n",
       "      <td>5</td>\n",
       "      <td>153180188</td>\n",
       "      <td>False</td>\n",
       "      <td>ferrari 57 inmobiliaria</td>\n",
       "      <td>912177526.0</td>\n",
       "      <td>https://www.fotocasa.es/es/comprar/vivienda/ma...</td>\n",
       "      <td>2.0</td>\n",
       "      <td>2.0</td>\n",
       "      <td>106.0</td>\n",
       "      <td>172000</td>\n",
       "      <td>...</td>\n",
       "      <td>0</td>\n",
       "      <td>0</td>\n",
       "      <td>0</td>\n",
       "      <td>0</td>\n",
       "      <td>0</td>\n",
       "      <td>0</td>\n",
       "      <td>40,2998774864376</td>\n",
       "      <td>-3,45226301356237</td>\n",
       "      <td>NaN</td>\n",
       "      <td>NaN</td>\n",
       "    </tr>\n",
       "    <tr>\n",
       "      <th>...</th>\n",
       "      <td>...</td>\n",
       "      <td>...</td>\n",
       "      <td>...</td>\n",
       "      <td>...</td>\n",
       "      <td>...</td>\n",
       "      <td>...</td>\n",
       "      <td>...</td>\n",
       "      <td>...</td>\n",
       "      <td>...</td>\n",
       "      <td>...</td>\n",
       "      <td>...</td>\n",
       "      <td>...</td>\n",
       "      <td>...</td>\n",
       "      <td>...</td>\n",
       "      <td>...</td>\n",
       "      <td>...</td>\n",
       "      <td>...</td>\n",
       "      <td>...</td>\n",
       "      <td>...</td>\n",
       "      <td>...</td>\n",
       "      <td>...</td>\n",
       "    </tr>\n",
       "    <tr>\n",
       "      <th>15330</th>\n",
       "      <td>15331</td>\n",
       "      <td>153901377</td>\n",
       "      <td>False</td>\n",
       "      <td>infocasa consulting</td>\n",
       "      <td>911360461.0</td>\n",
       "      <td>https://www.fotocasa.es/es/comprar/vivienda/ma...</td>\n",
       "      <td>2.0</td>\n",
       "      <td>1.0</td>\n",
       "      <td>96.0</td>\n",
       "      <td>259470</td>\n",
       "      <td>...</td>\n",
       "      <td>0</td>\n",
       "      <td>0</td>\n",
       "      <td>0</td>\n",
       "      <td>0</td>\n",
       "      <td>0</td>\n",
       "      <td>0</td>\n",
       "      <td>40,45416</td>\n",
       "      <td>-3,70286</td>\n",
       "      <td>NaN</td>\n",
       "      <td>NaN</td>\n",
       "    </tr>\n",
       "    <tr>\n",
       "      <th>15331</th>\n",
       "      <td>15332</td>\n",
       "      <td>150394373</td>\n",
       "      <td>False</td>\n",
       "      <td>inmobiliaria pulpon</td>\n",
       "      <td>912788039.0</td>\n",
       "      <td>https://www.fotocasa.es/es/comprar/vivienda/ma...</td>\n",
       "      <td>3.0</td>\n",
       "      <td>1.0</td>\n",
       "      <td>150.0</td>\n",
       "      <td>165000</td>\n",
       "      <td>...</td>\n",
       "      <td>0</td>\n",
       "      <td>0</td>\n",
       "      <td>0</td>\n",
       "      <td>0</td>\n",
       "      <td>0</td>\n",
       "      <td>0</td>\n",
       "      <td>40,36652</td>\n",
       "      <td>-3,48951</td>\n",
       "      <td>NaN</td>\n",
       "      <td>NaN</td>\n",
       "    </tr>\n",
       "    <tr>\n",
       "      <th>15332</th>\n",
       "      <td>15333</td>\n",
       "      <td>153901397</td>\n",
       "      <td>False</td>\n",
       "      <td>tecnocasa torrelodones</td>\n",
       "      <td>912780348.0</td>\n",
       "      <td>https://www.fotocasa.es/es/comprar/vivienda/ma...</td>\n",
       "      <td>4.0</td>\n",
       "      <td>2.0</td>\n",
       "      <td>175.0</td>\n",
       "      <td>495000</td>\n",
       "      <td>...</td>\n",
       "      <td>0</td>\n",
       "      <td>0</td>\n",
       "      <td>0</td>\n",
       "      <td>0</td>\n",
       "      <td>0</td>\n",
       "      <td>0</td>\n",
       "      <td>40,57444</td>\n",
       "      <td>-3,92124</td>\n",
       "      <td>NaN</td>\n",
       "      <td>NaN</td>\n",
       "    </tr>\n",
       "    <tr>\n",
       "      <th>15333</th>\n",
       "      <td>15334</td>\n",
       "      <td>152607440</td>\n",
       "      <td>False</td>\n",
       "      <td>inmobiliaria pulpon</td>\n",
       "      <td>912788039.0</td>\n",
       "      <td>https://www.fotocasa.es/es/comprar/vivienda/ma...</td>\n",
       "      <td>3.0</td>\n",
       "      <td>2.0</td>\n",
       "      <td>101.0</td>\n",
       "      <td>195000</td>\n",
       "      <td>...</td>\n",
       "      <td>0</td>\n",
       "      <td>0</td>\n",
       "      <td>0</td>\n",
       "      <td>0</td>\n",
       "      <td>0</td>\n",
       "      <td>0</td>\n",
       "      <td>40,36967</td>\n",
       "      <td>-3,48105</td>\n",
       "      <td>NaN</td>\n",
       "      <td>NaN</td>\n",
       "    </tr>\n",
       "    <tr>\n",
       "      <th>15334</th>\n",
       "      <td>15335</td>\n",
       "      <td>153901356</td>\n",
       "      <td>False</td>\n",
       "      <td>infocasa consulting</td>\n",
       "      <td>911360461.0</td>\n",
       "      <td>https://www.fotocasa.es/es/comprar/vivienda/ma...</td>\n",
       "      <td>3.0</td>\n",
       "      <td>2.0</td>\n",
       "      <td>152.0</td>\n",
       "      <td>765000</td>\n",
       "      <td>...</td>\n",
       "      <td>0</td>\n",
       "      <td>0</td>\n",
       "      <td>0</td>\n",
       "      <td>0</td>\n",
       "      <td>0</td>\n",
       "      <td>0</td>\n",
       "      <td>40,45773</td>\n",
       "      <td>-3,69068</td>\n",
       "      <td>NaN</td>\n",
       "      <td>NaN</td>\n",
       "    </tr>\n",
       "  </tbody>\n",
       "</table>\n",
       "<p>15335 rows × 37 columns</p>\n",
       "</div>"
      ],
      "text/plain": [
       "       Unnamed: 0  id_realEstates  isNew                    realEstate_name  \\\n",
       "0               1       153771986  False            ferrari 57 inmobiliaria   \n",
       "1               2       153867863  False  tecnocasa fuenlabrada ferrocarril   \n",
       "2               3       153430440  False                 look find boadilla   \n",
       "3               4       152776331  False  tecnocasa fuenlabrada ferrocarril   \n",
       "4               5       153180188  False            ferrari 57 inmobiliaria   \n",
       "...           ...             ...    ...                                ...   \n",
       "15330       15331       153901377  False                infocasa consulting   \n",
       "15331       15332       150394373  False                inmobiliaria pulpon   \n",
       "15332       15333       153901397  False             tecnocasa torrelodones   \n",
       "15333       15334       152607440  False                inmobiliaria pulpon   \n",
       "15334       15335       153901356  False                infocasa consulting   \n",
       "\n",
       "       phone_realEstate                                       url_inmueble  \\\n",
       "0           912177526.0  https://www.fotocasa.es/es/comprar/vivienda/ma...   \n",
       "1           916358736.0  https://www.fotocasa.es/es/comprar/vivienda/ma...   \n",
       "2           916350408.0  https://www.fotocasa.es/es/comprar/vivienda/ma...   \n",
       "3           916358736.0  https://www.fotocasa.es/es/comprar/vivienda/ma...   \n",
       "4           912177526.0  https://www.fotocasa.es/es/comprar/vivienda/ma...   \n",
       "...                 ...                                                ...   \n",
       "15330       911360461.0  https://www.fotocasa.es/es/comprar/vivienda/ma...   \n",
       "15331       912788039.0  https://www.fotocasa.es/es/comprar/vivienda/ma...   \n",
       "15332       912780348.0  https://www.fotocasa.es/es/comprar/vivienda/ma...   \n",
       "15333       912788039.0  https://www.fotocasa.es/es/comprar/vivienda/ma...   \n",
       "15334       911360461.0  https://www.fotocasa.es/es/comprar/vivienda/ma...   \n",
       "\n",
       "       rooms  bathrooms  surface   price  ... level4Id level5Id level6Id  \\\n",
       "0        3.0        2.0    103.0  195000  ...        0        0        0   \n",
       "1        3.0        1.0      NaN   89000  ...        0        0        0   \n",
       "2        2.0        2.0     99.0  390000  ...        0        0        0   \n",
       "3        3.0        1.0     86.0   89000  ...        0        0        0   \n",
       "4        2.0        2.0    106.0  172000  ...        0        0        0   \n",
       "...      ...        ...      ...     ...  ...      ...      ...      ...   \n",
       "15330    2.0        1.0     96.0  259470  ...        0        0        0   \n",
       "15331    3.0        1.0    150.0  165000  ...        0        0        0   \n",
       "15332    4.0        2.0    175.0  495000  ...        0        0        0   \n",
       "15333    3.0        2.0    101.0  195000  ...        0        0        0   \n",
       "15334    3.0        2.0    152.0  765000  ...        0        0        0   \n",
       "\n",
       "      level7Id level8Id accuracy          latitude          longitude zipCode  \\\n",
       "0            0        0        0  40,2948276786438  -3,44402412135624     NaN   \n",
       "1            0        0        1          40,28674           -3,79351     NaN   \n",
       "2            0        0        0  40,4115646786438  -3,90662252135624     NaN   \n",
       "3            0        0        0  40,2853785786438  -3,79508142135624     NaN   \n",
       "4            0        0        0  40,2998774864376  -3,45226301356237     NaN   \n",
       "...        ...      ...      ...               ...                ...     ...   \n",
       "15330        0        0        0          40,45416           -3,70286     NaN   \n",
       "15331        0        0        0          40,36652           -3,48951     NaN   \n",
       "15332        0        0        0          40,57444           -3,92124     NaN   \n",
       "15333        0        0        0          40,36967           -3,48105     NaN   \n",
       "15334        0        0        0          40,45773           -3,69068     NaN   \n",
       "\n",
       "      customZone  \n",
       "0            NaN  \n",
       "1            NaN  \n",
       "2            NaN  \n",
       "3            NaN  \n",
       "4            NaN  \n",
       "...          ...  \n",
       "15330        NaN  \n",
       "15331        NaN  \n",
       "15332        NaN  \n",
       "15333        NaN  \n",
       "15334        NaN  \n",
       "\n",
       "[15335 rows x 37 columns]"
      ]
     },
     "execution_count": 1,
     "metadata": {},
     "output_type": "execute_result"
    }
   ],
   "source": [
    "import pandas as pd\n",
    "import matplotlib as plt\n",
    "# this CSV file contains semicolons instead of comas as separator\n",
    "ds = pd.read_csv('assets/real_estate.csv', sep=';')\n",
    "ds"
   ]
  },
  {
   "attachments": {},
   "cell_type": "markdown",
   "id": "latin-guest",
   "metadata": {},
   "source": [
    "#### Exercise 01. Which is the most expensive house in the dataset? (★☆☆)\n",
    "\n",
    "Print the address and the price of the selected house. For example:\n",
    "\n",
    "`The house with address General Street Nº5 is the most expensive and its price is 5000000 USD`"
   ]
  },
  {
   "cell_type": "code",
   "execution_count": 5,
   "id": "developing-optimum",
   "metadata": {},
   "outputs": [
    {
     "name": "stdout",
     "output_type": "stream",
     "text": [
      "The house with address: El Escorial is the most expensive and its price is 8500000\n"
     ]
    }
   ],
   "source": [
    "max_price= (ds['price'].max())\n",
    "idx_max = ds['price'].idxmax()\n",
    "address = ds.loc[idx_max,'address']\n",
    "print(f\"The house with address:\", address , \"is the most expensive and its price is\" , max_price)"
   ]
  },
  {
   "attachments": {},
   "cell_type": "markdown",
   "id": "lesser-cosmetic",
   "metadata": {},
   "source": [
    "#### Exercise 02. Which is cheapest house in the dataset? (★☆☆)\n",
    "\n",
    "Print the address and the price of the selected house. For example:\n",
    "\n",
    "`The house with address Concrete Street Nº1 is the cheapest and its price is 12000 USD`"
   ]
  },
  {
   "cell_type": "code",
   "execution_count": 4,
   "id": "lovely-oasis",
   "metadata": {},
   "outputs": [
    {
     "name": "stdout",
     "output_type": "stream",
     "text": [
      "The house with address: Parla is the cheapest ad its price is 0\n"
     ]
    }
   ],
   "source": [
    "min_price= (ds['price'].min())\n",
    "idx_min = ds['price'].idxmin()\n",
    "address1 = ds.loc[idx_min,'address']\n",
    "print(f\"The house with address:\", address1 , \"is the cheapest ad its price is\" , min_price)\n"
   ]
  },
  {
   "attachments": {},
   "cell_type": "markdown",
   "id": "compliant-fellowship",
   "metadata": {},
   "source": [
    "#### Exercise 03. Which is the biggest and the smallest house in the dataset? (★☆☆)\n",
    "\n",
    "Print both the address and the surface of the selected houses. For example:\n",
    "\n",
    "`The bigger house is located on Yukka Street Nº10 and its surface is 5000 meters`\n",
    "\n",
    "`The smaller house is located on County Road 1 N and its surface is 200 meters`"
   ]
  },
  {
   "cell_type": "code",
   "execution_count": 6,
   "id": "every-tiffany",
   "metadata": {},
   "outputs": [
    {
     "name": "stdout",
     "output_type": "stream",
     "text": [
      "The bigger house is located on Sevilla la Nueva and its surface is 249000.0\n",
      "The smaller house is located on Calle Amparo,  Madrid Capital and its surface is 15.0\n"
     ]
    }
   ],
   "source": [
    "max_surface= (ds['surface'].max())\n",
    "idx_max_surf = ds['surface'].idxmax()\n",
    "address2 = ds.loc[idx_max_surf,'address']\n",
    "print(f\"The bigger house is located on\", address2, \"and its surface is\", max_surface)\n",
    "min_surface= (ds['surface'].min())\n",
    "idx_min_surf = ds['surface'].idxmin()\n",
    "address3 = ds.loc[idx_min_surf,'address']\n",
    "print(f\"The smaller house is located on\", address3, \"and its surface is\", min_surface)"
   ]
  },
  {
   "attachments": {},
   "cell_type": "markdown",
   "id": "danish-spirit",
   "metadata": {},
   "source": [
    "#### Exercise 04. How many populations (level5 column) the dataset contains? (★☆☆)\n",
    "\n",
    "Print the name of the populations with comma as separator. For example:\n",
    "\n",
    "`> print(populations)`\n",
    "\n",
    "`population1, population2, population3,...`"
   ]
  },
  {
   "cell_type": "code",
   "execution_count": 8,
   "id": "exciting-accreditation",
   "metadata": {},
   "outputs": [
    {
     "name": "stdout",
     "output_type": "stream",
     "text": [
      "['Arganda del Rey', 'Fuenlabrada', 'Boadilla del Monte', 'Las Rozas de Madrid', ' Madrid Capital', 'Villaviciosa de Odón', 'Pinto', 'Valdemoro', 'Navalcarnero', 'Pozuelo de Alarcón', 'Torrejón de Ardoz', 'Navalagamella', 'San Sebastián de los Reyes', 'Rivas-vaciamadrid', 'Alpedrete', 'Móstoles', 'San Fernando de Henares', 'Coslada', 'Becerril de la Sierra', 'Alcalá de Henares', 'Chinchón', 'Parla', 'Alcorcón', 'El Escorial', 'Leganés', 'Pedrezuela', 'Majadahonda', 'Villanueva de la Cañada', 'Villanueva del Pardillo', 'Torrelodones', 'Moralzarzal', 'Mejorada del Campo', 'Aranjuez', 'Corpa', 'Getafe', 'Velilla de San Antonio', 'Sevilla la Nueva', 'San Martín de la Vega', 'Villalbilla', 'Collado Villalba', 'Alcobendas', 'El Molar (Madrid)', 'Moraleja de Enmedio', 'Algete', 'Campo Real', 'Torrejón de la Calzada', 'Colmenar Viejo', 'Valdemorillo', 'Fuente El Saz de Jarama', 'Tres Cantos', 'Arroyomolinos (Madrid)', 'Griñón', 'Paracuellos de Jarama', 'Guadarrama', 'Titulcia', 'Galapagar', 'Collado Mediano', 'Los Molinos', 'San Lorenzo de El Escorial', 'Loeches', 'San Martín de Valdeiglesias', 'Navas del Rey', 'Bustarviejo', 'Manzanares El Real', 'Carabaña', 'Casarrubuelos', 'Cercedilla', 'Fresnedillas de la Oliva', 'Valdemaqueda', 'Robledo de Chavela', 'Miraflores de la Sierra', 'Humanes de Madrid', 'Valdetorres de Jarama', 'San Agustín del Guadalix', 'Ciempozuelos', 'Camarma de Esteruelas', 'Torres de la Alameda', 'Talamanca de Jarama', 'El Atazar', 'Hoyo de Manzanares', 'El Boalo - Cerceda – Mataelpino', 'El Álamo', 'Valdilecha', 'Valdeolmos-Alalpardo', 'Guadalix de la Sierra', 'Belmonte de Tajo', 'El Vellón', 'Brunete', 'Redueña', 'Morata de Tajuña', 'Tielmes', 'Gargantilla del Lozoya', 'Meco', 'Venturada', 'Quijorna', 'Cenicientos', 'Torrejón de Velasco', 'Navacerrada', 'Santa María de la Alameda', 'Orusco de Tajuña', 'Daganzo de Arriba', 'Villamanta', 'Anchuelo', 'Valdaracete', 'Ajalvir', 'Los Santos de la Humosa', 'Villamanrique de Tajo', 'Colmenar de Oreja', 'Villa del Prado', 'Fuentidueña de Tajo', 'Colmenar del Arroyo', 'Valdelaguna', 'Cubas de la Sagra', 'Valdeavero', 'Aldea del Fresno', 'Ribatejada', 'Torrelaguna', 'Batres', 'Pezuela de las Torres', 'Colmenarejo', 'Serranillos del Valle', 'Cobeña', 'Soto del Real', 'El Berrueco', 'Villanueva de Perales', 'Fresno de Torote - Serracines', 'Pozuelo del Rey', 'Pelayos de la Presa', 'La Cabrera', 'Nuevo Baztán', 'Perales de Tajuña', 'Villaconejos', 'Villarejo de Salvanés', 'Cadalso de los Vidrios', 'Santorcaz', 'Madarcos', 'Garganta de los Montes', 'Puentes Viejas', 'Torremocha de Jarama', 'Valdemanco', 'Braojos', 'Lozoyuela-navas-sieteiglesias', 'Piñuécar-gandullas', 'Valdepiélagos', 'Valverde de Alcalá', 'Villar del Olmo', 'Villamantilla', 'Horcajo de la Sierra', 'Gascones', 'Zarzalejo', 'Villavieja del Lozoya', 'Brea de Tajo', 'Estremera', 'Chapinería', 'Navarredonda', 'Patones', 'Ambite', 'Navalafuente', 'Lozoya', 'Canencia', 'Cabanillas de la Sierra', 'Buitrago del Lozoya', 'Fresno de Torote', 'Robregordo', 'Pinilla del Valle', 'Rascafría', 'La Hiruela', 'Montejo de la Sierra']\n"
     ]
    }
   ],
   "source": [
    "a = ds.get('level5')\n",
    "b = a.tolist()\n",
    "c = list(dict.fromkeys(b))\n",
    "print(c)"
   ]
  },
  {
   "attachments": {},
   "cell_type": "markdown",
   "id": "crazy-blame",
   "metadata": {},
   "source": [
    "#### Exercise 05. Does the dataset contain NAs? (★☆☆)\n",
    "\n",
    "Print a boolean value (`true` or `fase`) followed by the rows/cols that contains NAs."
   ]
  },
  {
   "cell_type": "code",
   "execution_count": null,
   "id": "transparent-poetry",
   "metadata": {},
   "outputs": [],
   "source": [
    "p= ds.isnull()\n",
    "print(p)"
   ]
  },
  {
   "attachments": {},
   "cell_type": "markdown",
   "id": "italic-hydrogen",
   "metadata": {},
   "source": [
    "#### Exercise 06. Delete the NAs of the dataset, if applicable (★★☆)\n",
    "\n",
    "Print a comparison between the dimensions of the original DataFrame versus the DataFrame after the deletions"
   ]
  },
  {
   "cell_type": "code",
   "execution_count": null,
   "id": "administrative-roads",
   "metadata": {},
   "outputs": [],
   "source": [
    "ds2 = ds.fillna(0)\n",
    "print(ds.index) \n",
    "print(ds2.index)"
   ]
  },
  {
   "attachments": {},
   "cell_type": "markdown",
   "id": "middle-china",
   "metadata": {},
   "source": [
    "#### Exercise 07. Which is the mean of prices in the population (level5 column) of \"Arroyomolinos (Madrid)\"? (★★☆)\n",
    "\n",
    "Print the obtained value"
   ]
  },
  {
   "cell_type": "code",
   "execution_count": null,
   "id": "nuclear-belief",
   "metadata": {},
   "outputs": [],
   "source": [
    "arroyo_molinos = ds.loc[ds['level5'] == \"Arroyomolinos (Madrid)\"]\n",
    "p=arroyo_molinos['price']\n",
    "mean_arroyo=p.mean()\n",
    "print(mean_arroyo)"
   ]
  },
  {
   "attachments": {},
   "cell_type": "markdown",
   "id": "concerned-radical",
   "metadata": {},
   "source": [
    "#### Exercise 08. Plot the histogram of prices for the population (level5 column) of \"Arroyomolinos (Madrid)\" and explain what you observe (★★☆)\n",
    "\n",
    "Print the histogram of the prices and write in the Markdown cell a brief analysis about the plot."
   ]
  },
  {
   "cell_type": "code",
   "execution_count": 16,
   "id": "sudden-message",
   "metadata": {},
   "outputs": [
    {
     "ename": "AttributeError",
     "evalue": "module 'matplotlib' has no attribute 'hist'",
     "output_type": "error",
     "traceback": [
      "\u001b[0;31m---------------------------------------------------------------------------\u001b[0m",
      "\u001b[0;31mAttributeError\u001b[0m                            Traceback (most recent call last)",
      "Cell \u001b[0;32mIn[16], line 4\u001b[0m\n\u001b[1;32m      2\u001b[0m arroyo_molinos \u001b[39m=\u001b[39m ds\u001b[39m.\u001b[39mloc[ds[\u001b[39m'\u001b[39m\u001b[39mlevel5\u001b[39m\u001b[39m'\u001b[39m] \u001b[39m==\u001b[39m \u001b[39m\"\u001b[39m\u001b[39mArroyomolinos (Madrid)\u001b[39m\u001b[39m\"\u001b[39m]\n\u001b[1;32m      3\u001b[0m p\u001b[39m=\u001b[39marroyo_molinos[\u001b[39m'\u001b[39m\u001b[39mprice\u001b[39m\u001b[39m'\u001b[39m]\n\u001b[0;32m----> 4\u001b[0m plt\u001b[39m.\u001b[39;49mhist(p)\n\u001b[1;32m      5\u001b[0m plt\u001b[39m.\u001b[39mshow()\n",
      "File \u001b[0;32m/workspace/.pyenv_mirror/user/current/lib/python3.11/site-packages/matplotlib/_api/__init__.py:226\u001b[0m, in \u001b[0;36mcaching_module_getattr.<locals>.__getattr__\u001b[0;34m(name)\u001b[0m\n\u001b[1;32m    224\u001b[0m \u001b[39mif\u001b[39;00m name \u001b[39min\u001b[39;00m props:\n\u001b[1;32m    225\u001b[0m     \u001b[39mreturn\u001b[39;00m props[name]\u001b[39m.\u001b[39m\u001b[39m__get__\u001b[39m(instance)\n\u001b[0;32m--> 226\u001b[0m \u001b[39mraise\u001b[39;00m \u001b[39mAttributeError\u001b[39;00m(\n\u001b[1;32m    227\u001b[0m     \u001b[39mf\u001b[39m\u001b[39m\"\u001b[39m\u001b[39mmodule \u001b[39m\u001b[39m{\u001b[39;00m\u001b[39mcls\u001b[39m\u001b[39m.\u001b[39m\u001b[39m__module__\u001b[39m\u001b[39m!r}\u001b[39;00m\u001b[39m has no attribute \u001b[39m\u001b[39m{\u001b[39;00mname\u001b[39m!r}\u001b[39;00m\u001b[39m\"\u001b[39m)\n",
      "\u001b[0;31mAttributeError\u001b[0m: module 'matplotlib' has no attribute 'hist'"
     ]
    }
   ],
   "source": [
    "# En la zona de arroyo molinos, se puede observar por la grafica generada, que los precios rondan los 200k hasta los 400k, tambien vemos que existe la posibilidad de adquirir una casa por 0 y hasta 600k: \n",
    "arroyo_molinos = ds.loc[ds['level5'] == \"Arroyomolinos (Madrid)\"]\n",
    "p=arroyo_molinos['price']\n",
    "plt.hist(p)\n",
    "plt.show()"
   ]
  },
  {
   "attachments": {},
   "cell_type": "markdown",
   "id": "impressed-combination",
   "metadata": {},
   "source": [
    "**TODO: Markdown**. To write here, double click to this cell and just remove this content and place the text you want to write. Then, execute the cell."
   ]
  },
  {
   "attachments": {},
   "cell_type": "markdown",
   "id": "actual-edinburgh",
   "metadata": {},
   "source": [
    "#### Exercise 09. Is the average of \"Valdemorillo\" and \"Galapagar\" prices the same? (★★☆)\n",
    "\n",
    "Print the both average prices and then write a conclusion about them"
   ]
  },
  {
   "cell_type": "code",
   "execution_count": 13,
   "id": "numeric-commerce",
   "metadata": {},
   "outputs": [
    {
     "name": "stdout",
     "output_type": "stream",
     "text": [
      "363860.2931034483\n",
      "360063.20238095237\n"
     ]
    }
   ],
   "source": [
    "Valdemorillo = ds.loc[ds['level5'] == \"Valdemorillo\"]\n",
    "p1=Valdemorillo['price']\n",
    "mean_Valdemorillo=p1.mean()\n",
    "print(mean_Valdemorillo)\n",
    "\n",
    "Galapagar = ds.loc[ds['level5'] == \"Galapagar\"]\n",
    "p2=Galapagar['price']\n",
    "mean_Galapagar=p2.mean()\n",
    "print(mean_Galapagar)\n",
    "\n",
    "#The mean price are basically the same, Valdemorillo has a bigger mean number , only over 3000."
   ]
  },
  {
   "attachments": {},
   "cell_type": "markdown",
   "id": "lonely-article",
   "metadata": {},
   "source": [
    "#### Exercise 10. Is the average of \"Valdemorillo\" and \"Galapagar\" price per square meter (price/m2) the same? (★★☆)\n",
    "\n",
    "Print the both average prices and then write a conclusion about\n",
    "\n",
    "Hint: Create a new column called `pps` (price per square) and then analyse the values"
   ]
  },
  {
   "cell_type": "code",
   "execution_count": 12,
   "id": "hourly-globe",
   "metadata": {},
   "outputs": [
    {
     "name": "stdout",
     "output_type": "stream",
     "text": [
      "       Unnamed: 0  id_realEstates  isNew               realEstate_name  \\\n",
      "390           391       150350773  False           inmobiliaria gopard   \n",
      "545           546       153652973  False              remax punto cero   \n",
      "576           577       153002099  False                      sosdivar   \n",
      "617           618       150786470  False             grupo sigame 24hr   \n",
      "731           732       152777104  False              remax punto cero   \n",
      "...           ...             ...    ...                           ...   \n",
      "14850       14851       153173530  False        prorealty inmobiliaria   \n",
      "14887       14888       153913359  False  a casa coaching inmobiliario   \n",
      "14911       14912       153723972  False             urbenorte pozuelo   \n",
      "14913       14914       153722435  False             urbenorte pozuelo   \n",
      "15059       15060       153826016  False   mam gestiones inmobiliarias   \n",
      "\n",
      "       phone_realEstate                                       url_inmueble  \\\n",
      "390                 NaN  https://www.fotocasa.es/es/comprar/vivienda/ma...   \n",
      "545         912176425.0  https://www.fotocasa.es/es/comprar/vivienda/vi...   \n",
      "576         914890914.0  https://www.fotocasa.es/es/comprar/vivienda/pa...   \n",
      "617         911367437.0  https://www.fotocasa.es/es/comprar/vivienda/ma...   \n",
      "731         912176425.0  https://www.fotocasa.es/es/comprar/vivienda/ge...   \n",
      "...                 ...                                                ...   \n",
      "14850       912664437.0  https://www.fotocasa.es/es/comprar/vivienda/la...   \n",
      "14887       911228327.0  https://www.fotocasa.es/es/comprar/vivienda/pa...   \n",
      "14911       911790847.0  https://www.fotocasa.es/es/comprar/vivienda/pa...   \n",
      "14913       911790847.0  https://www.fotocasa.es/es/comprar/vivienda/pa...   \n",
      "15059       911365778.0  https://www.fotocasa.es/es/comprar/vivienda/pi...   \n",
      "\n",
      "       rooms  bathrooms  surface   price  ... level5Id level6Id level7Id  \\\n",
      "390      3.0        1.0     85.0  160000  ...        0        0        0   \n",
      "545      4.0        4.0    426.0  749000  ...        0        0        0   \n",
      "576      6.0        4.0    575.0  798500  ...        0        0        0   \n",
      "617      6.0        3.0    400.0  420000  ...        0        0        0   \n",
      "731      5.0        6.0    525.0  660000  ...        0        0        0   \n",
      "...      ...        ...      ...     ...  ...      ...      ...      ...   \n",
      "14850    4.0        4.0    291.0  415000  ...        0        0        0   \n",
      "14887    5.0        3.0    433.0  312000  ...        0        0        0   \n",
      "14911    4.0        4.0      NaN  530000  ...        0        0        0   \n",
      "14913    4.0        3.0    161.0  275000  ...        0        0        0   \n",
      "15059    1.0        1.0     55.0  103000  ...        0        0        0   \n",
      "\n",
      "      level8Id accuracy    latitude   longitude zipCode customZone  \\\n",
      "390          0        0    40,50009    -4,07059     NaN        NaN   \n",
      "545          0        0     40,4899     -4,0227     NaN        NaN   \n",
      "576          0        1    40,54863    -3,98895     NaN        NaN   \n",
      "617          0        0    40,58297     -3,9646     NaN        NaN   \n",
      "731          0        0    40,56148    -3,97243     NaN        NaN   \n",
      "...        ...      ...         ...         ...     ...        ...   \n",
      "14850        0        0  40,5781972  -4,0231467     NaN        NaN   \n",
      "14887        0        0    40,50901    -4,04104     NaN        NaN   \n",
      "14911        0        0    40,53755    -4,08728     NaN        NaN   \n",
      "14913        0        0    40,50054    -4,05651     NaN        NaN   \n",
      "15059        0        1    40,49998    -4,06828     NaN        NaN   \n",
      "\n",
      "               PPS  \n",
      "390    1882.352941  \n",
      "545    1758.215962  \n",
      "576    1388.695652  \n",
      "617    1050.000000  \n",
      "731    1257.142857  \n",
      "...            ...  \n",
      "14850  1426.116838  \n",
      "14887   720.554273  \n",
      "14911          NaN  \n",
      "14913  1708.074534  \n",
      "15059  1872.727273  \n",
      "\n",
      "[142 rows x 38 columns]\n"
     ]
    },
    {
     "name": "stderr",
     "output_type": "stream",
     "text": [
      "/tmp/ipykernel_1788/3120737599.py:2: SettingWithCopyWarning: \n",
      "A value is trying to be set on a copy of a slice from a DataFrame.\n",
      "Try using .loc[row_indexer,col_indexer] = value instead\n",
      "\n",
      "See the caveats in the documentation: https://pandas.pydata.org/pandas-docs/stable/user_guide/indexing.html#returning-a-view-versus-a-copy\n",
      "  ps1[\"PPS\"] = ps1[\"price\"] / ps1[\"surface\"]\n"
     ]
    }
   ],
   "source": [
    "ps1 = ds[ds[\"level5\"].isin([\"Valdemorillo\",\"Galapagar\"])]\n",
    "ps1[\"PPS\"] = ps1[\"price\"] / ps1[\"surface\"]\n",
    "print(ps1)"
   ]
  },
  {
   "attachments": {},
   "cell_type": "markdown",
   "id": "pleasant-invite",
   "metadata": {},
   "source": [
    "#### Exercise 11. Analyse the relation between the surface and the price of the houses (★★☆)\n",
    "\n",
    "Hint: You can make a `scatter plot` and then write a conclusion about it"
   ]
  },
  {
   "cell_type": "code",
   "execution_count": null,
   "id": "common-drilling",
   "metadata": {},
   "outputs": [],
   "source": [
    "surface = ds['surface']\n",
    "price = ds['price']\n",
    "\n",
    "plt.scatter(surface, price)\n",
    "\n",
    "plt.title(\"Surface/Price\")\n",
    "plt.legend()\n",
    "plt.show()"
   ]
  },
  {
   "attachments": {},
   "cell_type": "markdown",
   "id": "ahead-liquid",
   "metadata": {},
   "source": [
    "**TODO: Markdown**. To write here, double click to this cell and just remove this content and place the text you want to write. Then, execute the cell."
   ]
  },
  {
   "attachments": {},
   "cell_type": "markdown",
   "id": "coordinate-sunrise",
   "metadata": {},
   "source": [
    "#### Exercise 12. How many real estate agencies the dataset contains? (★★☆)\n",
    "\n",
    "Print the obtained value"
   ]
  },
  {
   "cell_type": "code",
   "execution_count": 11,
   "id": "valid-honolulu",
   "metadata": {},
   "outputs": [
    {
     "name": "stdout",
     "output_type": "stream",
     "text": [
      "Total of 1822 agencies\n"
     ]
    }
   ],
   "source": [
    "agencies = ds[\"realEstate_name\"]\n",
    "total =(set(agencies))\n",
    "print(\"Total of\",len(total), \"agencies\")"
   ]
  },
  {
   "attachments": {},
   "cell_type": "markdown",
   "id": "binding-ebony",
   "metadata": {},
   "source": [
    "#### Exercise 13. Which is the population (level5 column) that contains the most houses? (★★☆)\n",
    "\n",
    "Print both the population and the number of houses"
   ]
  },
  {
   "cell_type": "code",
   "execution_count": 10,
   "id": "static-perry",
   "metadata": {},
   "outputs": [
    {
     "name": "stdout",
     "output_type": "stream",
     "text": [
      "[(' Madrid Capital', 6643)]\n"
     ]
    }
   ],
   "source": [
    "from collections import Counter\n",
    "\n",
    "population = ds[\"level5\"]\n",
    "a = list(population)\n",
    "print(Counter(a).most_common(1))"
   ]
  },
  {
   "attachments": {},
   "cell_type": "markdown",
   "id": "entire-classification",
   "metadata": {},
   "source": [
    "#### Exercise 14. Now let's work with the \"south belt\" of madrid. Make a subset of the original DataFrame that contains the following populations (level5 column): \"Fuenlabrada\",\"Leganés\",\"Getafe\",\"Alcorcón\" (★★☆)\n",
    "\n",
    "Hint: Filter the original DataFrame using the column `level5` and the function `isin`"
   ]
  },
  {
   "cell_type": "code",
   "execution_count": 17,
   "id": "binary-input",
   "metadata": {},
   "outputs": [
    {
     "name": "stdout",
     "output_type": "stream",
     "text": [
      "       Unnamed: 0  id_realEstates  isNew  \\\n",
      "1               2       153867863  False   \n",
      "3               4       152776331  False   \n",
      "85             86       153152077  False   \n",
      "94             95       153995577  False   \n",
      "109           110       153586414  False   \n",
      "...           ...             ...    ...   \n",
      "15275       15276       153903887  False   \n",
      "15291       15292       151697757  False   \n",
      "15305       15306       153902389  False   \n",
      "15322       15323       153871864  False   \n",
      "15325       15326       153901467  False   \n",
      "\n",
      "                                 realEstate_name  phone_realEstate  \\\n",
      "1              tecnocasa fuenlabrada ferrocarril       916358736.0   \n",
      "3              tecnocasa fuenlabrada ferrocarril       916358736.0   \n",
      "85                       sinergical inmobiliaria               NaN   \n",
      "94                               viviendas365com       911226014.0   \n",
      "109              area uno asesores inmobiliarios       912664081.0   \n",
      "...                                          ...               ...   \n",
      "15275  aliseda servicios de gestion inmobiliaria       911368198.0   \n",
      "15291                                    unipiso       912788631.0   \n",
      "15305                             jadein ferrero       914871639.0   \n",
      "15322                          gestion comercial       911220662.0   \n",
      "15325                              montehogar 68       911790675.0   \n",
      "\n",
      "                                            url_inmueble  rooms  bathrooms  \\\n",
      "1      https://www.fotocasa.es/es/comprar/vivienda/ma...    3.0        1.0   \n",
      "3      https://www.fotocasa.es/es/comprar/vivienda/ma...    3.0        1.0   \n",
      "85     https://www.fotocasa.es/es/comprar/vivienda/le...    1.0        1.0   \n",
      "94     https://www.fotocasa.es/es/comprar/vivienda/le...    3.0        2.0   \n",
      "109    https://www.fotocasa.es/es/comprar/vivienda/ma...    3.0        3.0   \n",
      "...                                                  ...    ...        ...   \n",
      "15275  https://www.fotocasa.es/es/comprar/vivienda/al...    3.0        1.0   \n",
      "15291  https://www.fotocasa.es/es/comprar/vivienda/al...    3.0        2.0   \n",
      "15305  https://www.fotocasa.es/es/comprar/vivienda/ma...    3.0        2.0   \n",
      "15322  https://www.fotocasa.es/es/comprar/vivienda/ma...    3.0        1.0   \n",
      "15325  https://www.fotocasa.es/es/comprar/vivienda/ma...    2.0        2.0   \n",
      "\n",
      "       surface   price  ... level4Id level5Id level6Id level7Id level8Id  \\\n",
      "1          NaN   89000  ...        0        0        0        0        0   \n",
      "3         86.0   89000  ...        0        0        0        0        0   \n",
      "85        50.0  107000  ...        0        0        0        0        0   \n",
      "94       120.0  320000  ...        0        0        0        0        0   \n",
      "109      142.0  425000  ...        0        0        0        0        0   \n",
      "...        ...     ...  ...      ...      ...      ...      ...      ...   \n",
      "15275     78.0  138000  ...        0        0        0        0        0   \n",
      "15291    110.0  279000  ...        0        0        0        0        0   \n",
      "15305     85.0  170000  ...        0        0        0        0        0   \n",
      "15322     91.0  112000  ...        0        0        0        0        0   \n",
      "15325     99.0  215000  ...        0        0        0        0        0   \n",
      "\n",
      "      accuracy          latitude          longitude zipCode customZone  \n",
      "1            1          40,28674           -3,79351     NaN        NaN  \n",
      "3            0  40,2853785786438  -3,79508142135624     NaN        NaN  \n",
      "85           1          40,35059           -3,82693     NaN        NaN  \n",
      "94           0          40,31933           -3,77574     NaN        NaN  \n",
      "109          0        40,3313411         -3,8313868     NaN        NaN  \n",
      "...        ...               ...                ...     ...        ...  \n",
      "15275        1          40,31381           -3,83733     NaN        NaN  \n",
      "15291        0        40,3259051           -3,76318     NaN        NaN  \n",
      "15305        0        40,2882193         -3,8098617     NaN        NaN  \n",
      "15322        0          40,28282           -3,78892     NaN        NaN  \n",
      "15325        1          40,28062           -3,79869     NaN        NaN  \n",
      "\n",
      "[907 rows x 37 columns]\n"
     ]
    }
   ],
   "source": [
    "ciudades1 = ds[ds[\"level5\"].isin([\"Fuenlabrada\",\"Leganés\",\"Getafe\",\"Alcorcón\"])]\n",
    "print(ciudades1)"
   ]
  },
  {
   "attachments": {},
   "cell_type": "markdown",
   "id": "severe-fisher",
   "metadata": {},
   "source": [
    "#### Exercise 15. Make a bar plot of the median of the prices and explain what you observe (you must use the subset obtained in the question 14) (★★★)\n",
    "\n",
    "Print the bar of the median of the prices and write in the Markdown cell a brief analysis about the plot"
   ]
  },
  {
   "cell_type": "code",
   "execution_count": 25,
   "id": "lyric-bunch",
   "metadata": {},
   "outputs": [
    {
     "data": {
      "image/png": "[encoded data removed]",
      "text/plain": [
       "<Figure size 640x480 with 1 Axes>"
      ]
     },
     "metadata": {},
     "output_type": "display_data"
    }
   ],
   "source": [
    "from numpy import median\n",
    "import matplotlib.pyplot as plt\n",
    "ciudades1 = ds[ds[\"level5\"].isin([\"Fuenlabrada\",\"Leganés\",\"Getafe\",\"Alcorcón\"])]\n",
    "\n",
    "a = ciudades1.loc[ciudades1['level5'] == \"Fuenlabrada\"]\n",
    "median_fuenlabrada=a['price'].median()\n",
    "\n",
    "b = ciudades1.loc[ciudades1['level5'] == \"Leganés\"]\n",
    "median_leganes=b['price'].median()\n",
    "\n",
    "c = ciudades1.loc[ciudades1['level5'] == \"Getafe\"]\n",
    "median_getafe=c['price'].median()\n",
    "\n",
    "d = ciudades1.loc[ciudades1['level5'] == \"Alcorcón\"]\n",
    "median_alcorcon=d['price'].median()\n",
    "\n",
    "positions = [median_alcorcon,median_fuenlabrada,median_getafe,median_leganes]\n",
    "labels = [\"Fuenlabrada\",\"Leganés\",\"Getafe\",\"Alcorcón\"]\n",
    "plt.bar(labels,positions)\n",
    "plt.show()\n",
    "\n",
    "#In Getafe we can see that the meridian price is higher than in the rest of the populations."
   ]
  },
  {
   "attachments": {},
   "cell_type": "markdown",
   "id": "sublime-newspaper",
   "metadata": {},
   "source": [
    "**TODO: Markdown**. To write here, double click to this cell and just remove this content and place the text you want to write. Then, execute the cell."
   ]
  },
  {
   "attachments": {},
   "cell_type": "markdown",
   "id": "speaking-diamond",
   "metadata": {},
   "source": [
    "#### Exercise 16. Calculate the sample mean and variance of the variables: price, rooms, surface area and bathrooms (you must use the subset obtained in the question 14) (★★★)\n",
    "\n",
    "Print both values for each variable"
   ]
  },
  {
   "cell_type": "code",
   "execution_count": 12,
   "id": "random-feeling",
   "metadata": {},
   "outputs": [
    {
     "name": "stdout",
     "output_type": "stream",
     "text": [
      "Superficie, Precios, Habitaciones y Baños de FUENLABRADA (MEDIANA)\n",
      "88.0 155000.0 3.0 1.0\n",
      "Superficie, Precios, Habitaciones y Baños de FUENLABRADA (VARIABLE)\n",
      "2264.6438930902314 4701020700.469365 0.3558441558441558 0.3533670420592967\n",
      "-------------------------------------------------------------------\n",
      "Superficie, Precios, Habitaciones y Baños de LEGANES (MEDIANA)\n",
      "80.0 169950.0 3.0 1.0\n",
      "Superficie, Precios, Habitaciones y Baños de LEGANES (VARIABLE)\n",
      "3987.475194805194 11913940043.502485 0.8245898100172712 0.5530548359240068\n",
      "-------------------------------------------------------------------\n",
      "Superficie, Precios, Habitaciones y Baños de GETAFE (MEDIANA)\n",
      "116.0 285305.0 3.0 2.0\n",
      "Superficie, Precios, Habitaciones y Baños de GETAFE (VARIABLE)\n",
      "5828.110027662518 20982665802.243946 0.7727478821143063 0.6588091118800461\n",
      "-------------------------------------------------------------------\n",
      "Superficie, Precios, Habitaciones y Baños de ALCORCON (MEDIANA)\n",
      "85.0 179500.0 3.0 1.0\n",
      "Superficie, Precios, Habitaciones y Baños de ALCORCON (VARIABLE)\n",
      "4244.323833848635 15947825983.013088 0.9338946410285586 0.592734670154025\n"
     ]
    }
   ],
   "source": [
    "import numpy as np\n",
    "ds = pd.read_csv('assets/real_estate.csv', sep=';')\n",
    "madrid = ds[ds[\"level5\"].isin([\"Fuenlabrada\",\"Leganés\",\"Getafe\",\"Alcorcón\"])]\n",
    "sl_1 = ds[ds[\"level5\"].isin([\"Fuenlabrada\"])]\n",
    "sl_2 = ds[ds[\"level5\"].isin([\"Leganés\"])]\n",
    "sl_3 = ds[ds[\"level5\"].isin([\"Getafe\"])]\n",
    "sl_4 = ds[ds[\"level5\"].isin([\"Alcorcón\"])]\n",
    "#FUENLABRADA\n",
    "prec1 = sl_1[\"price\"].median()\n",
    "surf1 = sl_1[\"surface\"].median()\n",
    "room1 = sl_1[\"rooms\"].median()\n",
    "bath1 = sl_1[\"bathrooms\"].median()\n",
    "prec2 = sl_1[\"price\"].var()\n",
    "surf2 = sl_1[\"surface\"].var()\n",
    "room2 = sl_1[\"rooms\"].var()\n",
    "bath2 = sl_1[\"bathrooms\"].var()\n",
    "#LEGANES\n",
    "prec3 = sl_2[\"price\"].median()\n",
    "surf3 = sl_2[\"surface\"].median()\n",
    "room3 = sl_2[\"rooms\"].median()\n",
    "bath3 = sl_2[\"bathrooms\"].median()\n",
    "prec4 = sl_2[\"price\"].var()\n",
    "surf4 = sl_2[\"surface\"].var()\n",
    "room4 = sl_2[\"rooms\"].var()\n",
    "bath4 = sl_2[\"bathrooms\"].var()\n",
    "#GETAFE\n",
    "prec5 = sl_3[\"price\"].median()\n",
    "surf5 = sl_3[\"surface\"].median()\n",
    "room5 = sl_3[\"rooms\"].median()\n",
    "bath5 = sl_3[\"bathrooms\"].median()\n",
    "prec6 = sl_3[\"price\"].var()\n",
    "surf6 = sl_3[\"surface\"].var()\n",
    "room6 = sl_3[\"rooms\"].var()\n",
    "bath6 = sl_3[\"bathrooms\"].var()\n",
    "#ALCORCON\n",
    "prec7 = sl_4[\"price\"].median()\n",
    "surf7 = sl_4[\"surface\"].median()\n",
    "room7 = sl_4[\"rooms\"].median()\n",
    "bath7 = sl_4[\"bathrooms\"].median()\n",
    "prec8 = sl_4[\"price\"].var()\n",
    "surf8 = sl_4[\"surface\"].var()\n",
    "room8 = sl_4[\"rooms\"].var()\n",
    "bath8 = sl_4[\"bathrooms\"].var()\n",
    "print(\"Superficie, Precios, Habitaciones y Baños de FUENLABRADA (MEDIANA)\")\n",
    "print(surf1, prec1, room1, bath1)\n",
    "print(\"Superficie, Precios, Habitaciones y Baños de FUENLABRADA (VARIABLE)\")\n",
    "print(surf2, prec2, room2, bath2)\n",
    "print(\"-------------------------------------------------------------------\")\n",
    "print(\"Superficie, Precios, Habitaciones y Baños de LEGANES (MEDIANA)\")\n",
    "print(surf3, prec3, room3, bath3)\n",
    "print(\"Superficie, Precios, Habitaciones y Baños de LEGANES (VARIABLE)\")\n",
    "print(surf4, prec4, room4, bath4)\n",
    "print(\"-------------------------------------------------------------------\")\n",
    "print(\"Superficie, Precios, Habitaciones y Baños de GETAFE (MEDIANA)\")\n",
    "print(surf5, prec5, room5, bath5)\n",
    "print(\"Superficie, Precios, Habitaciones y Baños de GETAFE (VARIABLE)\")\n",
    "print(surf6, prec6, room6, bath6)\n",
    "print(\"-------------------------------------------------------------------\")\n",
    "print(\"Superficie, Precios, Habitaciones y Baños de ALCORCON (MEDIANA)\")\n",
    "print(surf7, prec7, room7, bath7)\n",
    "print(\"Superficie, Precios, Habitaciones y Baños de ALCORCON (VARIABLE)\")\n",
    "print(surf8, prec8, room8, bath8)\n",
    "\n",
    "\n",
    "\n",
    "\n",
    "\n",
    "\n",
    "\n"
   ]
  },
  {
   "attachments": {},
   "cell_type": "markdown",
   "id": "revolutionary-matrix",
   "metadata": {},
   "source": [
    "#### Exercise 17. What is the most expensive house of each population? You must use the subset obtained in the question 14 (★★☆)\n",
    "\n",
    "Print both the address and the price of the selected house of each population. You can print a DataFrame or a single line for each population"
   ]
  },
  {
   "cell_type": "code",
   "execution_count": 11,
   "id": "fifteen-browse",
   "metadata": {},
   "outputs": [
    {
     "name": "stdout",
     "output_type": "stream",
     "text": [
      "Alcorcón\n",
      "Fuenlabrada:  490000 address:  Calle de Paulo Freire, 5, Fuenlabrada\n",
      "Leganés:  650000 address:  Avenida Reina Sofía, Leganés\n",
      "Getafe:  1050000 address:  Getafe\n",
      "Alarcón:  950000 address:  Alcorcón\n"
     ]
    }
   ],
   "source": [
    "ciudades1 = ds[ds[\"level5\"].isin([\"Fuenlabrada\",\"Leganés\",\"Getafe\",\"Alcorcón\"])]\n",
    "a = ciudades1.loc[ciudades1['level5'] == \"Fuenlabrada\"]\n",
    "max_fuenlabrada=a['price'].max()\n",
    "\n",
    "\n",
    "b = ciudades1.loc[ciudades1['level5'] == \"Leganés\"]\n",
    "max_leganes=b['price'].max()\n",
    "\n",
    "c = ciudades1.loc[ciudades1['level5'] == \"Getafe\"]\n",
    "max_getafe=c['price'].max()\n",
    "\n",
    "d = ciudades1.loc[ciudades1['level5'] == \"Alcorcón\"]\n",
    "max_alcorcon=d['price'].max()\n",
    "\n",
    "idx_max_fuenlabrada = a['price'].idxmax()\n",
    "address_fuenlabrada = a.loc[idx_max_fuenlabrada,'address']\n",
    "\n",
    "idx_max_leganés = b['price'].idxmax()\n",
    "address_leganés = b.loc[idx_max_leganés,'address']\n",
    "\n",
    "idx_max_getafe = c['price'].idxmax()\n",
    "address_getafe = c.loc[idx_max_getafe,'address']\n",
    "\n",
    "idx_max_alarcón = d['price'].idxmax()\n",
    "address_alarcón = d.loc[idx_max_alarcón,'address']\n",
    "print(address_alarcón)\n",
    "\n",
    "print(f'Fuenlabrada: ', max_fuenlabrada, 'address: ', address_fuenlabrada)\n",
    "print(f'Leganés: ', max_leganes, 'address: ', address_leganés)\n",
    "print(f'Getafe: ', max_getafe, 'address: ', address_getafe)\n",
    "print(f'Alarcón: ', max_alcorcon, 'address: ', address_alarcón)\n"
   ]
  },
  {
   "attachments": {},
   "cell_type": "markdown",
   "id": "activated-knight",
   "metadata": {},
   "source": [
    "#### Exercise 18. Normalize the variable of prices for each population and plot the 4 histograms in the same plot (you must use the subset obtained in the question 14) (★★★)\n",
    "\n",
    "For the normalization method you can use the one you consider to, there is not a single correct answer to this question. Print the plot and write in the Markdown cell a brief analysis about the plot\n",
    "\n",
    "Hint: You can help yourself reviewing the multihist demo of Matplotlib"
   ]
  },
  {
   "cell_type": "code",
   "execution_count": null,
   "id": "civic-meditation",
   "metadata": {},
   "outputs": [],
   "source": [
    "ciudades1 = ds[ds[\"level5\"].isin([\"Fuenlabrada\",\"Leganés\",\"Getafe\",\"Alcorcón\"])]\n",
    "\n",
    "a = ciudades1.loc[ciudades1['level5'] == \"Fuenlabrada\"]\n",
    "a_prices = a['price']\n",
    "normalized_df=(a_prices-a_prices.min())/(a_prices.max()-a_prices.min())\n",
    "print(normalized_df)\n",
    "\n",
    "b = ciudades1.loc[ciudades1['level5'] == \"Leganés\"]\n",
    "b_prices = b['price']\n",
    "normalized_db=(b_prices-b_prices.min())/(b_prices.max()-b_prices.min())\n",
    "print(normalized_db)\n",
    "\n",
    "c = ciudades1.loc[ciudades1['level5'] == \"Getafe\"]\n",
    "c_prices = c['price']\n",
    "normalized_dc=(c_prices-c_prices.min())/(c_prices.max()-c_prices.min())\n",
    "print(normalized_dc)\n",
    "\n",
    "d = ciudades1.loc[ciudades1['level5'] == \"Alcorcón\"]\n",
    "d_prices = d['price']\n",
    "normalized_dd=(d_prices-d_prices.min())/(d_prices.max()-d_prices.min())\n",
    "print(normalized_dd)"
   ]
  },
  {
   "attachments": {},
   "cell_type": "markdown",
   "id": "precise-heavy",
   "metadata": {},
   "source": [
    "**TODO: Markdown**. To write here, double click to this cell and just remove this content and place the text you want to write. Then, execute the cell."
   ]
  },
  {
   "attachments": {},
   "cell_type": "markdown",
   "id": "patent-jonathan",
   "metadata": {},
   "source": [
    "#### Exercise 19. What can you say about the price per square meter (price/m2) between the towns of \"Getafe\" and \"Alcorcón\"? You must use the subset obtained in the question 14 (★★☆)\n",
    "\n",
    "Hint: Create a new column called `pps` (price per square) and then analyse the values"
   ]
  },
  {
   "cell_type": "code",
   "execution_count": 8,
   "id": "initial-liverpool",
   "metadata": {},
   "outputs": [
    {
     "name": "stdout",
     "output_type": "stream",
     "text": [
      "169      1487.179487\n",
      "232      2113.846154\n",
      "233      1632.530120\n",
      "269      1611.290323\n",
      "381      1625.000000\n",
      "            ...     \n",
      "14999    1738.095238\n",
      "15002    2331.893443\n",
      "15034    3262.773723\n",
      "15087    3097.043478\n",
      "15117    2946.428571\n",
      "Name: PPS, Length: 290, dtype: float64\n",
      "85       2140.000000\n",
      "109      2992.957746\n",
      "765      2275.229358\n",
      "816      3114.583333\n",
      "827      1844.615385\n",
      "            ...     \n",
      "14896    2076.923077\n",
      "15144    3548.387097\n",
      "15166    2397.260274\n",
      "15191    3117.647059\n",
      "15223    3023.529412\n",
      "Name: PPS, Length: 190, dtype: float64\n"
     ]
    },
    {
     "name": "stderr",
     "output_type": "stream",
     "text": [
      "/tmp/ipykernel_724/3131732384.py:5: SettingWithCopyWarning: \n",
      "A value is trying to be set on a copy of a slice from a DataFrame.\n",
      "Try using .loc[row_indexer,col_indexer] = value instead\n",
      "\n",
      "See the caveats in the documentation: https://pandas.pydata.org/pandas-docs/stable/user_guide/indexing.html#returning-a-view-versus-a-copy\n",
      "  ps2[\"PPS\"] = ps2[\"price\"] / ps2[\"surface\"]\n",
      "/tmp/ipykernel_724/3131732384.py:11: SettingWithCopyWarning: \n",
      "A value is trying to be set on a copy of a slice from a DataFrame.\n",
      "Try using .loc[row_indexer,col_indexer] = value instead\n",
      "\n",
      "See the caveats in the documentation: https://pandas.pydata.org/pandas-docs/stable/user_guide/indexing.html#returning-a-view-versus-a-copy\n",
      "  ps3[\"PPS\"] = ps3[\"price\"] / ps3[\"surface\"]\n"
     ]
    }
   ],
   "source": [
    "ciudades1 = ds[ds[\"level5\"].isin([\"Fuenlabrada\",\"Leganés\",\"Getafe\",\"Alcorcón\"])]\n",
    "\n",
    "\n",
    "ps2 = ciudades1[ciudades1[\"level5\"].isin([\"Getafe\"])]\n",
    "ps2[\"PPS\"] = ps2[\"price\"] / ps2[\"surface\"]\n",
    "a = ps2.get('PPS')\n",
    "print(a)\n",
    "\n",
    "\n",
    "ps3 = ciudades1[ciudades1[\"level5\"].isin([\"Alcorcón\"])]\n",
    "ps3[\"PPS\"] = ps3[\"price\"] / ps3[\"surface\"]\n",
    "b = ps3.get('PPS')\n",
    "print(b)"
   ]
  },
  {
   "attachments": {},
   "cell_type": "markdown",
   "id": "enhanced-moscow",
   "metadata": {},
   "source": [
    "#### Exercise 20. Make the same plot for 4 different populations (level5 column) and rearrange them on the same graph? You must use the subset obtained in the question 14 (★★☆) \n",
    "Hint: make a scatter plot of each population using subplots."
   ]
  },
  {
   "cell_type": "code",
   "execution_count": 9,
   "id": "accepting-airfare",
   "metadata": {},
   "outputs": [
    {
     "ename": "AttributeError",
     "evalue": "module 'matplotlib' has no attribute 'subplots'",
     "output_type": "error",
     "traceback": [
      "\u001b[0;31m---------------------------------------------------------------------------\u001b[0m",
      "\u001b[0;31mAttributeError\u001b[0m                            Traceback (most recent call last)",
      "Cell \u001b[0;32mIn[9], line 3\u001b[0m\n\u001b[1;32m      1\u001b[0m ciudades1 \u001b[39m=\u001b[39m ds[ds[\u001b[39m\"\u001b[39m\u001b[39mlevel5\u001b[39m\u001b[39m\"\u001b[39m]\u001b[39m.\u001b[39misin([\u001b[39m\"\u001b[39m\u001b[39mFuenlabrada\u001b[39m\u001b[39m\"\u001b[39m,\u001b[39m\"\u001b[39m\u001b[39mLeganés\u001b[39m\u001b[39m\"\u001b[39m,\u001b[39m\"\u001b[39m\u001b[39mGetafe\u001b[39m\u001b[39m\"\u001b[39m,\u001b[39m\"\u001b[39m\u001b[39mAlcorcón\u001b[39m\u001b[39m\"\u001b[39m])]\n\u001b[0;32m----> 3\u001b[0m fig, axs \u001b[39m=\u001b[39m plt\u001b[39m.\u001b[39;49msubplots(\u001b[39m2\u001b[39m, \u001b[39m2\u001b[39m)\n\u001b[1;32m      5\u001b[0m axs[\u001b[39m0\u001b[39m, \u001b[39m0\u001b[39m]\u001b[39m.\u001b[39mscatter(x, y, s\u001b[39m=\u001b[39marea, c\u001b[39m=\u001b[39mcolors, alpha\u001b[39m=\u001b[39m\u001b[39m0.5\u001b[39m)\n\u001b[1;32m      6\u001b[0m axs[\u001b[39m0\u001b[39m, \u001b[39m0\u001b[39m]\u001b[39m.\u001b[39mset_title(\u001b[39m'\u001b[39m\u001b[39mScatter plot 1\u001b[39m\u001b[39m'\u001b[39m)\n",
      "File \u001b[0;32m/workspace/.pyenv_mirror/user/current/lib/python3.11/site-packages/matplotlib/_api/__init__.py:226\u001b[0m, in \u001b[0;36mcaching_module_getattr.<locals>.__getattr__\u001b[0;34m(name)\u001b[0m\n\u001b[1;32m    224\u001b[0m \u001b[39mif\u001b[39;00m name \u001b[39min\u001b[39;00m props:\n\u001b[1;32m    225\u001b[0m     \u001b[39mreturn\u001b[39;00m props[name]\u001b[39m.\u001b[39m\u001b[39m__get__\u001b[39m(instance)\n\u001b[0;32m--> 226\u001b[0m \u001b[39mraise\u001b[39;00m \u001b[39mAttributeError\u001b[39;00m(\n\u001b[1;32m    227\u001b[0m     \u001b[39mf\u001b[39m\u001b[39m\"\u001b[39m\u001b[39mmodule \u001b[39m\u001b[39m{\u001b[39;00m\u001b[39mcls\u001b[39m\u001b[39m.\u001b[39m\u001b[39m__module__\u001b[39m\u001b[39m!r}\u001b[39;00m\u001b[39m has no attribute \u001b[39m\u001b[39m{\u001b[39;00mname\u001b[39m!r}\u001b[39;00m\u001b[39m\"\u001b[39m)\n",
      "\u001b[0;31mAttributeError\u001b[0m: module 'matplotlib' has no attribute 'subplots'"
     ]
    }
   ],
   "source": [
    "ciudades1 = ds[ds[\"level5\"].isin([\"Fuenlabrada\",\"Leganés\",\"Getafe\",\"Alcorcón\"])]\n",
    "\n",
    "fig, axs = plt.subplots(2, 2)\n",
    "\n",
    "axs[0, 0].scatter(x, y, s=area, c=colors, alpha=0.5)\n",
    "axs[0, 0].set_title('Scatter plot 1')\n",
    "\n",
    "axs[0, 1].scatter(x, y, s=area, c=colors, alpha=0.5)\n",
    "axs[0, 1].set_title('Scatter plot 2')\n",
    "\n",
    "axs[1, 0].scatter(x, y, s=area, c=colors, alpha=0.5)\n",
    "axs[1, 0].set_title('Scatter plot 3')\n",
    "\n",
    "axs[1, 1].scatter(x, y, s=area, c=colors, alpha=0.5)\n",
    "axs[1, 1].set_title('Scatter plot 4')"
   ]
  },
  {
   "attachments": {},
   "cell_type": "markdown",
   "id": "blocked-effects",
   "metadata": {},
   "source": [
    "#### Exercise 21. Make a plot of the coordinates (latitude and longitude columns) of the south belt of Madrid by color of each population (you must use the subset obtained in the question 14) (★★★★)\n",
    "\n",
    "Execute the following cell and then start coding in the next one. You must implement a simple code that transform the coordinates columns in a Python dictionary (add more information if needed) and then add it to the map"
   ]
  },
  {
   "cell_type": "code",
   "execution_count": 10,
   "id": "headed-privacy",
   "metadata": {},
   "outputs": [
    {
     "data": {
      "application/vnd.jupyter.widget-view+json": {
       "model_id": "e007a09eacc2456885e660631024b3bb",
       "version_major": 2,
       "version_minor": 0
      },
      "text/plain": [
       "Map(center=[60, -2.2], controls=(ZoomControl(options=['position', 'zoom_in_text', 'zoom_in_title', 'zoom_out_t…"
      ]
     },
     "execution_count": 10,
     "metadata": {},
     "output_type": "execute_result"
    }
   ],
   "source": [
    "from ipyleaflet import Map, basemaps\n",
    "\n",
    "# Map centred on (60 degrees latitude et -2.2 degrees longitude)\n",
    "# Latitude, longitude\n",
    "map = Map(center = (60, -2.2), zoom = 2, min_zoom = 1, max_zoom = 20, \n",
    "    basemap=basemaps.Stamen.Terrazzin)\n",
    "map"
   ]
  },
  {
   "cell_type": "code",
   "execution_count": null,
   "id": "present-mistress",
   "metadata": {},
   "outputs": [],
   "source": [
    "## HERE: plot the coordinates of the estates\n",
    "\n",
    "## PUT HERE YOUR CODE:\n",
    "ciudades1 = ds[ds[\"level5\"].isin([\"Fuenlabrada\",\"Leganés\",\"Getafe\",\"Alcorcón\"])]\n",
    "a = ciudades1['latitude'].to_dict()\n",
    "b= ciudades1['longitude'].to_dict()\n",
    "\n"
   ]
  }
 ],
 "metadata": {
  "kernelspec": {
   "display_name": "Python 3",
   "language": "python",
   "name": "python3"
  },
  "language_info": {
   "codemirror_mode": {
    "name": "ipython",
    "version": 3
   },
   "file_extension": ".py",
   "mimetype": "text/x-python",
   "name": "python",
   "nbconvert_exporter": "python",
   "pygments_lexer": "ipython3",
   "version": "3.11.4"
  }
 },
 "nbformat": 4,
 "nbformat_minor": 5
}
